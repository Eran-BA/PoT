{
  "cells": [
    {
      "cell_type": "markdown",
      "metadata": {},
      "source": [
        "# Pointer-over-Heads Transformer (PoT)\n",
        "\n",
        "**Dynamic multi-head attention with adaptive routing for dependency parsing**\n",
        "\n",
        "Repository: https://github.com/Eran-BA/PoT\n",
        "\n",
        "This notebook demonstrates training, evaluation, and visualization of the PoH architecture.\n"
      ]
    }
  ],
  "metadata": {
    "language_info": {
      "name": "python"
    }
  },
  "nbformat": 4,
  "nbformat_minor": 2
}
