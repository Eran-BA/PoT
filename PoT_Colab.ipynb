{
  "cells": [
    {
      "cell_type": "markdown",
      "metadata": {},
      "source": [
        "# Pointer-over-Heads Transformer (PoT)\n",
        "\n",
        "**Dynamic Multi-Head Attention with Adaptive Routing for Dependency Parsing**\n",
        "\n",
        "**Author:** Eran Ben Artzy  \n",
        "**Year:** 2025  \n",
        "**License:** Apache 2.0  \n",
        "**Repository:** https://github.com/Eran-BA/PoT\n",
        "\n",
        "---\n",
        "\n",
        "## 🚀 Quick Start (A100 GPU Optimized)\n",
        "\n",
        "This notebook runs the complete experimental pipeline:\n",
        "\n",
        "1. **Setup** (2 min): Clone repo and install dependencies\n",
        "2. **Smoke Test** (1 min): Verify installation with dummy data\n",
        "3. **A/B Comparison** (15-20 min): Baseline vs PoH on UD English EWT\n",
        "4. **Ablation Studies** (30-45 min): Test iterations, routing, halting\n",
        "5. **Multi-Seed Runs** (20-30 min): Best config with 3 seeds\n",
        "6. **Visualization** (1 min): Generate publication-ready plots\n",
        "\n",
        "**Total Runtime:** ~1-2 hours on A100  \n",
        "**Batch Size:** 32 (optimized for A100)\n",
        "\n",
        "---\n"
      ]
    },
    {
      "cell_type": "markdown",
      "metadata": {},
      "source": [
        "## 📋 Step 1: Setup & Installation\n"
      ]
    },
    {
      "cell_type": "code",
      "execution_count": null,
      "metadata": {},
      "outputs": [],
      "source": [
        "# Check GPU\n",
        "!nvidia-smi -L\n",
        "!nvidia-smi --query-gpu=memory.total --format=csv,noheader\n"
      ]
    },
    {
      "cell_type": "code",
      "execution_count": null,
      "metadata": {},
      "outputs": [],
      "source": [
        "# Clone repository\n",
        "!git clone https://github.com/Eran-BA/PoT.git\n",
        "%cd PoT\n"
      ]
    },
    {
      "cell_type": "code",
      "execution_count": null,
      "metadata": {},
      "outputs": [],
      "source": [
        "# Install dependencies\n",
        "!pip install -q -r requirements.txt\n"
      ]
    },
    {
      "cell_type": "markdown",
      "metadata": {},
      "source": [
        "## ✅ Step 2: Smoke Test (Verify Installation)\n"
      ]
    },
    {
      "cell_type": "code",
      "execution_count": null,
      "metadata": {},
      "outputs": [],
      "source": [
        "# Quick sanity check with dummy data (~30 seconds)\n",
        "!python ab_ud_pointer_vs_baseline.py \\\n",
        "  --data_source dummy \\\n",
        "  --epochs 2 \\\n",
        "  --batch_size 16 \\\n",
        "  --log_csv smoke_test.csv\n"
      ]
    },
    {
      "cell_type": "code",
      "execution_count": null,
      "metadata": {},
      "outputs": [],
      "source": [
        "# View results\n",
        "import pandas as pd\n",
        "\n",
        "df = pd.read_csv('smoke_test.csv')\n",
        "print(\"\\n📊 Smoke Test Results:\")\n",
        "print(df[['model', 'epoch', 'train_uas', 'dev_uas', 'mean_inner_iters', 'params']])\n",
        "\n",
        "print(\"\\n✅ Installation verified!\")\n",
        "print(f\"Baseline params: {df[df['model']=='Baseline']['params'].iloc[0]:,}\")\n",
        "print(f\"PoH params:      {df[df['model']=='PoH']['params'].iloc[0]:,}\")\n",
        "print(f\"Overhead:        +{df[df['model']=='PoH']['params'].iloc[0] - df[df['model']=='Baseline']['params'].iloc[0]:,}\")\n"
      ]
    },
    {
      "cell_type": "markdown",
      "metadata": {},
      "source": [
        "## 📥 Step 3: Download Real Data (UD English EWT)\n",
        "\n",
        "Download Universal Dependencies English EWT dataset:\n"
      ]
    },
    {
      "cell_type": "code",
      "execution_count": null,
      "metadata": {},
      "outputs": [],
      "source": [
        "# Download UD English EWT from GitHub\n",
        "print(\"📥 Downloading UD English EWT dataset...\")\n",
        "!wget -q https://raw.githubusercontent.com/UniversalDependencies/UD_English-EWT/master/en_ewt-ud-train.conllu\n",
        "!wget -q https://raw.githubusercontent.com/UniversalDependencies/UD_English-EWT/master/en_ewt-ud-dev.conllu\n",
        "!wget -q https://raw.githubusercontent.com/UniversalDependencies/UD_English-EWT/master/en_ewt-ud-test.conllu\n",
        "!mkdir -p ud_data\n",
        "!mv en_ewt-ud-*.conllu ud_data/\n",
        "\n",
        "print(\"✅ Downloaded UD English EWT to ud_data/\")\n",
        "print(\"   • Train: ud_data/en_ewt-ud-train.conllu\")\n",
        "print(\"   • Dev:   ud_data/en_ewt-ud-dev.conllu\")\n",
        "print(\"   • Test:  ud_data/en_ewt-ud-test.conllu\")\n"
      ]
    },
    {
      "cell_type": "markdown",
      "metadata": {},
      "source": [
        "## 🔬 Step 4: Real Data A/B Comparison\n",
        "\n",
        "Run parameter-matched comparison on **UD English EWT** (using local files):\n"
      ]
    },
    {
      "cell_type": "code",
      "execution_count": null,
      "metadata": {},
      "outputs": [],
      "source": [
        "# Parameter-matched A/B comparison (~15-20 min on A100)\n",
        "!python ab_ud_pointer_vs_baseline.py \\\n",
        "  --data_source conllu --conllu_dir ud_data \\\n",
        "  --epochs 5 \\\n",
        "  --batch_size 32 \\\n",
        "  --lr 3e-5 \\\n",
        "  --param_match baseline \\\n",
        "  --ignore_punct \\\n",
        "  --emit_conllu \\\n",
        "  --log_csv ab_comparison.csv\n"
      ]
    },
    {
      "cell_type": "code",
      "execution_count": null,
      "metadata": {},
      "outputs": [],
      "source": [
        "# View A/B results\n",
        "import pandas as pd\n",
        "\n",
        "df_ab = pd.read_csv('ab_comparison.csv')\n",
        "\n",
        "print(\"\\n📊 A/B Comparison Results (Final Epoch):\")\n",
        "final = df_ab[df_ab['epoch'] == df_ab['epoch'].max()]\n",
        "print(final[['model', 'dev_uas', 'dev_las', 'mean_inner_iters', 'params']].to_string(index=False))\n",
        "\n",
        "# Calculate improvement\n",
        "baseline_uas = float(final[final['model']=='Baseline']['dev_uas'].values[0])\n",
        "poh_uas = float(final[final['model']=='PoH']['dev_uas'].values[0])\n",
        "improvement = ((poh_uas - baseline_uas) / baseline_uas) * 100\n",
        "\n",
        "print(f\"\\n🎯 PoH Improvement: +{improvement:.2f}% UAS\")\n"
      ]
    },
    {
      "cell_type": "code",
      "execution_count": null,
      "metadata": {},
      "outputs": [],
      "source": [
        "## 🧪 Step 5: Ablation Studies\n",
        "\n",
        "Test what matters: **iterations**, **routing**, **halting**, **combination**\n"
      ]
    },
    {
      "cell_type": "markdown",
      "metadata": {},
      "source": [
        "# A. Iterations (static gating vs refinement)\n",
        "print(\"🔬 Running Iterations Ablation...\")\n",
        "for iters in [1, 2, 3]:\n",
        "    print(f\"  → Testing {iters} inner iterations...\")\n",
        "    !python ab_ud_pointer_vs_baseline.py \\\n",
        "      --data_source conllu --conllu_dir ud_data \\\n",
        "      --epochs 3 --batch_size 32 --lr 3e-5 \\\n",
        "      --halting_mode fixed --max_inner_iters {iters} \\\n",
        "      --routing_topk 0 --log_csv ablations.csv --ignore_punct\n",
        "\n",
        "print(\"✅ Iterations ablation complete!\")\n"
      ]
    },
    {
      "cell_type": "code",
      "execution_count": null,
      "metadata": {},
      "outputs": [],
      "source": [
        "# B. Routing (soft mixture vs hard top-k)\n",
        "print(\"🔬 Running Routing Ablation...\")\n",
        "for topk in [0, 2]:\n",
        "    mode = \"soft\" if topk == 0 else f\"top-{topk}\"\n",
        "    print(f\"  → Testing {mode} routing...\")\n",
        "    !python ab_ud_pointer_vs_baseline.py \\\n",
        "      --data_source conllu --conllu_dir ud_data \\\n",
        "      --epochs 3 --batch_size 32 --lr 3e-5 \\\n",
        "      --halting_mode fixed --max_inner_iters 2 \\\n",
        "      --routing_topk {topk} --log_csv ablations.csv --ignore_punct\n",
        "\n",
        "print(\"✅ Routing ablation complete!\")\n"
      ]
    },
    {
      "cell_type": "code",
      "execution_count": null,
      "metadata": {},
      "outputs": [],
      "source": [
        "# C. Halting (fixed vs entropy vs ACT-style)\n",
        "print(\"🔬 Running Halting Ablation...\")\n",
        "for halt in ['fixed', 'entropy', 'halting']:\n",
        "    print(f\"  → Testing {halt} halting...\")\n",
        "    !python ab_ud_pointer_vs_baseline.py \\\n",
        "      --data_source conllu --conllu_dir ud_data \\\n",
        "      --epochs 3 --batch_size 32 --lr 3e-5 \\\n",
        "      --halting_mode {halt} --max_inner_iters 3 \\\n",
        "      --routing_topk 2 --log_csv ablations.csv --ignore_punct\n",
        "\n",
        "print(\"✅ Halting ablation complete!\")\n"
      ]
    },
    {
      "cell_type": "code",
      "execution_count": null,
      "metadata": {},
      "outputs": [],
      "source": [
        "# View ablation results summary\n",
        "df_abl = pd.read_csv('ablations.csv')\n",
        "poh_results = df_abl[df_abl['model'] == 'PoH']\n",
        "\n",
        "print(\"\\n📊 Ablation Study Results:\")\n",
        "print(\"\\n🔢 Iterations:\")\n",
        "for i in [1, 2, 3]:\n",
        "    subset = poh_results[poh_results['max_inner_iters'] == str(i)]\n",
        "    if not subset.empty:\n",
        "        uas = float(subset['dev_uas'].values[-1])\n",
        "        print(f\"  {i} iterations: {uas:.4f} UAS\")\n",
        "\n",
        "print(\"\\n🎯 Routing:\")\n",
        "for tk in ['0', '2']:\n",
        "    subset = poh_results[poh_results['routing_topk'] == tk]\n",
        "    if not subset.empty:\n",
        "        uas = float(subset['dev_uas'].values[-1])\n",
        "        mode = \"soft\" if tk == '0' else f\"top-{tk}\"\n",
        "        print(f\"  {mode}: {uas:.4f} UAS\")\n",
        "\n",
        "print(\"\\n⏱️  Halting:\")\n",
        "for halt in ['fixed', 'entropy', 'halting']:\n",
        "    subset = poh_results[poh_results['halting_mode'] == halt]\n",
        "    if not subset.empty:\n",
        "        uas = float(subset['dev_uas'].values[-1])\n",
        "        print(f\"  {halt}: {uas:.4f} UAS\")\n"
      ]
    },
    {
      "cell_type": "code",
      "execution_count": null,
      "metadata": {},
      "outputs": [],
      "source": [
        "## 🎲 Step 6: Multi-Seed Robustness\n",
        "\n",
        "Run best configuration with **3 random seeds** for mean ± std\n"
      ]
    },
    {
      "cell_type": "markdown",
      "metadata": {},
      "source": [
        "## 🎲 Step 5: Multi-Seed Robustness\n",
        "\n",
        "Run best configuration with **3 random seeds** for mean ± std\n"
      ]
    },
    {
      "cell_type": "code",
      "execution_count": null,
      "metadata": {},
      "outputs": [],
      "source": [
        "# Run best config with multiple seeds (~20-30 min on A100)\n",
        "print(\"🎲 Running Multi-Seed Evaluation...\")\n",
        "print(\"Best config: entropy halting, 2 iters, top-2 routing\\n\")\n",
        "\n",
        "for seed in [42, 123, 456]:\n",
        "    print(f\"  → Seed {seed}...\")\n",
        "    !python ab_ud_pointer_vs_baseline.py \\\n",
        "      --data_source hf --epochs 5 --batch_size 32 --lr 3e-5 \\\n",
        "      --halting_mode entropy --max_inner_iters 2 --routing_topk 2 \\\n",
        "      --param_match baseline --ignore_punct --emit_conllu \\\n",
        "      --seed {seed} --log_csv multiseed.csv\n",
        "\n",
        "print(\"\\n✅ Multi-seed evaluation complete!\")\n"
      ]
    },
    {
      "cell_type": "code",
      "execution_count": null,
      "metadata": {},
      "outputs": [],
      "source": [
        "# Compute statistics across seeds\n",
        "import numpy as np\n",
        "\n",
        "df_ms = pd.read_csv('multiseed.csv')\n",
        "final_ms = df_ms[df_ms['epoch'] == df_ms['epoch'].max()]\n",
        "\n",
        "baseline_stats = final_ms[final_ms['model'] == 'Baseline'].groupby('seed').last()\n",
        "poh_stats = final_ms[final_ms['model'] == 'PoH'].groupby('seed').last()\n",
        "\n",
        "print(\"\\n📊 Multi-Seed Results (Mean ± Std):\")\n",
        "print(\"=\"*60)\n",
        "\n",
        "for name, stats in [('Baseline', baseline_stats), ('PoH', poh_stats)]:\n",
        "    uas_mean = stats['dev_uas'].astype(float).mean()\n",
        "    uas_std = stats['dev_uas'].astype(float).std()\n",
        "    las_mean = stats['dev_las'].astype(float).mean()\n",
        "    las_std = stats['dev_las'].astype(float).std()\n",
        "    \n",
        "    print(f\"\\n{name}:\")\n",
        "    print(f\"  Dev UAS: {uas_mean:.4f} ± {uas_std:.4f}\")\n",
        "    print(f\"  Dev LAS: {las_mean:.4f} ± {las_std:.4f}\")\n",
        "    \n",
        "    if name == 'PoH':\n",
        "        iters_mean = stats['mean_inner_iters'].astype(float).mean()\n",
        "        iters_std = stats['mean_inner_iters'].astype(float).std()\n",
        "        print(f\"  Mean Iters: {iters_mean:.2f} ± {iters_std:.2f}\")\n",
        "\n",
        "# Compute improvement\n",
        "baseline_uas_mean = baseline_stats['dev_uas'].astype(float).mean()\n",
        "poh_uas_mean = poh_stats['dev_uas'].astype(float).mean()\n",
        "improvement_final = ((poh_uas_mean - baseline_uas_mean) / baseline_uas_mean) * 100\n",
        "\n",
        "print(\"\\n\" + \"=\"*60)\n",
        "print(f\"🎯 PoH Improvement: +{improvement_final:.2f}% UAS\")\n",
        "print(\"=\"*60)\n"
      ]
    },
    {
      "cell_type": "markdown",
      "metadata": {},
      "source": [
        "## 📊 Step 6: Visualization & Download\n"
      ]
    },
    {
      "cell_type": "code",
      "execution_count": null,
      "metadata": {},
      "outputs": [],
      "source": [
        "# Generate comprehensive visualization\n",
        "import matplotlib.pyplot as plt\n",
        "import seaborn as sns\n",
        "\n",
        "sns.set_style('whitegrid')\n",
        "fig, axes = plt.subplots(2, 2, figsize=(14, 10))\n",
        "\n",
        "# 1. A/B Comparison (Learning Curves)\n",
        "ax = axes[0, 0]\n",
        "for model in ['Baseline', 'PoH']:\n",
        "    data = df_ab[df_ab['model'] == model]\n",
        "    ax.plot(data['epoch'], data['dev_uas'].astype(float), \n",
        "            marker='o', label=model, linewidth=2)\n",
        "ax.set_xlabel('Epoch', fontsize=12)\n",
        "ax.set_ylabel('Dev UAS', fontsize=12)\n",
        "ax.set_title('A/B Comparison: Learning Curves', fontsize=14, fontweight='bold')\n",
        "ax.legend(fontsize=11)\n",
        "ax.grid(True, alpha=0.3)\n",
        "\n",
        "# 2. Iterations Ablation\n",
        "ax = axes[0, 1]\n",
        "poh_abl = df_abl[df_abl['model'] == 'PoH']\n",
        "iters_data = []\n",
        "for i in [1, 2, 3]:\n",
        "    subset = poh_abl[poh_abl['max_inner_iters'] == str(i)]\n",
        "    if not subset.empty:\n",
        "        iters_data.append((i, float(subset['dev_uas'].values[-1])))\n",
        "if iters_data:\n",
        "    iters, uas = zip(*iters_data)\n",
        "    ax.bar(iters, uas, color='steelblue', alpha=0.7)\n",
        "    ax.set_xlabel('Inner Iterations', fontsize=12)\n",
        "    ax.set_ylabel('Dev UAS', fontsize=12)\n",
        "    ax.set_title('Ablation: Number of Iterations', fontsize=14, fontweight='bold')\n",
        "    ax.set_xticks([1, 2, 3])\n",
        "    ax.grid(True, alpha=0.3, axis='y')\n",
        "\n",
        "# 3. Routing Ablation\n",
        "ax = axes[1, 0]\n",
        "routing_data = []\n",
        "for tk, label in [('0', 'Soft'), ('2', 'Top-2')]:\n",
        "    subset = poh_abl[poh_abl['routing_topk'] == tk]\n",
        "    if not subset.empty:\n",
        "        routing_data.append((label, float(subset['dev_uas'].values[-1])))\n",
        "if routing_data:\n",
        "    labels, uas = zip(*routing_data)\n",
        "    ax.bar(labels, uas, color='coral', alpha=0.7)\n",
        "    ax.set_xlabel('Routing Mode', fontsize=12)\n",
        "    ax.set_ylabel('Dev UAS', fontsize=12)\n",
        "    ax.set_title('Ablation: Routing Strategy', fontsize=14, fontweight='bold')\n",
        "    ax.grid(True, alpha=0.3, axis='y')\n",
        "\n",
        "# 4. Multi-Seed Results\n",
        "ax = axes[1, 1]\n",
        "models = ['Baseline', 'PoH']\n",
        "means = [baseline_uas_mean, poh_uas_mean]\n",
        "stds = [baseline_stats['dev_uas'].astype(float).std(), \n",
        "        poh_stats['dev_uas'].astype(float).std()]\n",
        "x_pos = range(len(models))\n",
        "bars = ax.bar(x_pos, means, yerr=stds, capsize=5, \n",
        "              color=['lightblue', 'lightcoral'], alpha=0.7)\n",
        "ax.set_xticks(x_pos)\n",
        "ax.set_xticklabels(models)\n",
        "ax.set_ylabel('Dev UAS', fontsize=12)\n",
        "ax.set_title('Multi-Seed Results (Mean ± Std)', fontsize=14, fontweight='bold')\n",
        "ax.grid(True, alpha=0.3, axis='y')\n",
        "ax.annotate(f'+{improvement_final:.2f}%', \n",
        "            xy=(1, poh_uas_mean), xytext=(1.2, poh_uas_mean),\n",
        "            fontsize=12, fontweight='bold', color='green',\n",
        "            arrowprops=dict(arrowstyle='->', color='green', lw=2))\n",
        "\n",
        "plt.tight_layout()\n",
        "plt.savefig('comprehensive_results.png', dpi=300, bbox_inches='tight')\n",
        "print(\"\\n✅ Saved comprehensive_results.png\")\n",
        "plt.show()\n"
      ]
    },
    {
      "cell_type": "code",
      "execution_count": null,
      "metadata": {},
      "outputs": [],
      "source": [
        "# Package all results for download\n",
        "!zip -r pot_results.zip *.csv *.png *.conllu 2>/dev/null\n",
        "\n",
        "from google.colab import files\n",
        "files.download('pot_results.zip')\n",
        "\n",
        "print(\"\\n✅ Results packaged and ready for download!\")\n",
        "print(\"\\nPackage includes:\")\n",
        "print(\"  • CSV logs (all experiments)\")\n",
        "print(\"  • Plots (ablations, learning curves)\")\n",
        "print(\"  • CoNLL-U predictions\")\n"
      ]
    },
    {
      "cell_type": "markdown",
      "metadata": {},
      "source": [
        "## 📋 Final Summary & Paper Claims\n"
      ]
    },
    {
      "cell_type": "code",
      "execution_count": null,
      "metadata": {},
      "outputs": [],
      "source": [
        "# Generate paper-ready summary\n",
        "print(\"=\"*70)\n",
        "print(\"POINTER-OVER-HEADS TRANSFORMER: EXPERIMENTAL RESULTS\")\n",
        "print(\"=\"*70)\n",
        "print(f\"\\n📊 Dataset: Universal Dependencies English EWT\")\n",
        "print(f\"🖥️  Hardware: A100 GPU\")\n",
        "print(f\"⚙️  Encoder: DistilBERT-base-uncased\")\n",
        "\n",
        "print(\"\\n\" + \"=\"*70)\n",
        "print(\"MAIN RESULTS (Multi-Seed, Parameter-Matched)\")\n",
        "print(\"=\"*70)\n",
        "\n",
        "baseline_params = baseline_stats['params'].iloc[0]\n",
        "poh_params = poh_stats['params'].iloc[0]\n",
        "param_overhead = ((poh_params - baseline_params) / baseline_params) * 100\n",
        "\n",
        "print(f\"\\n{'Model':<12} {'Params':<12} {'Dev UAS':<15} {'Dev LAS':<15} {'Mean Iters':<12}\")\n",
        "print(\"-\"*70)\n",
        "print(f\"{'Baseline':<12} {baseline_params:<12,} {baseline_uas_mean:.4f}±{baseline_stats['dev_uas'].astype(float).std():.4f}    {baseline_stats['dev_las'].astype(float).mean():.4f}±{baseline_stats['dev_las'].astype(float).std():.4f}    {'—':<12}\")\n",
        "print(f\"{'PoH':<12} {poh_params:<12,} {poh_uas_mean:.4f}±{poh_stats['dev_uas'].astype(float).std():.4f}    {poh_stats['dev_las'].astype(float).mean():.4f}±{poh_stats['dev_las'].astype(float).std():.4f}    {poh_stats['mean_inner_iters'].astype(float).mean():.2f}±{poh_stats['mean_inner_iters'].astype(float).std():.2f}\")\n",
        "print(f\"{'Δ':<12} {'+'+str(poh_params - baseline_params):<12,} +{improvement_final:.2f}%       +{((poh_stats['dev_las'].astype(float).mean() - baseline_stats['dev_las'].astype(float).mean()) / baseline_stats['dev_las'].astype(float).mean()) * 100:.2f}%\")\n",
        "\n",
        "print(\"\\n\" + \"=\"*70)\n",
        "print(\"KEY FINDINGS\")\n",
        "print(\"=\"*70)\n",
        "print(f\"\\n1. PoH achieves +{improvement_final:.2f}% UAS improvement with only +{param_overhead:.2f}% parameters\")\n",
        "print(f\"2. Adaptive routing converges to ~{poh_stats['mean_inner_iters'].astype(float).mean():.1f} inner iterations\")\n",
        "print(f\"3. Best config: entropy halting + 2 max iters + top-2 routing\")\n",
        "print(f\"4. Results stable across seeds (UAS std: {poh_stats['dev_uas'].astype(float).std():.4f})\")\n",
        "\n",
        "print(\"\\n\" + \"=\"*70)\n",
        "print(\"✅ Complete! All experiments finished successfully.\")\n",
        "print(\"\\n📦 Download pot_results.zip for all data, plots, and predictions.\")\n",
        "print(\"\\n🔗 Repository: https://github.com/Eran-BA/PoT\")\n",
        "print(\"👤 Author: Eran Ben Artzy\")\n",
        "print(\"=\"*70)\n"
      ]
    }
  ],
  "metadata": {
    "language_info": {
      "name": "python"
    }
  },
  "nbformat": 4,
  "nbformat_minor": 2
}
