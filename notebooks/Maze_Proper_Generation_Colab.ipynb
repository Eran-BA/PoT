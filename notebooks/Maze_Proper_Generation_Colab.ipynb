{
  "cells": [
    {
      "cell_type": "markdown",
      "metadata": {},
      "source": [
        "# 🧩 Maze A/B Test - Proper Generation\n",
        "\n",
        "**Using Research-Grade Maze Generation Library**\n",
        "\n",
        "This notebook uses the [maze-dataset](https://github.com/understanding-search/maze-dataset) library for high-quality maze generation.\n",
        "\n",
        "## Key Improvements:\n",
        "- ✅ **Proper algorithms**: DFS, Wilson's, Prim's (we use DFS)\n",
        "- ✅ **Path length filtering**: Control difficulty precisely\n",
        "- ✅ **Guaranteed solvable**: No dead-end mazes\n",
        "- ✅ **Long planning horizons**: Force 80+ step solutions\n",
        "\n",
        "## Models Compared:\n",
        "- **Baseline**: Standard Transformer\n",
        "- **PoH-HRM**: Pointer-over-Heads with Hierarchical Reasoning Module\n",
        "\n",
        "## Expected Results:\n",
        "With min path length = 80+, models need long-horizon planning:\n",
        "- **Baseline**: 60-75% accuracy (struggles with multi-step planning)\n",
        "- **PoH-HRM**: 80-90% accuracy (HRM's hierarchical reasoning helps!)\n",
        "\n",
        "---\n",
        "\n",
        "**Hardware**: Optimized for A100 GPU (~40-60 min runtime)\n"
      ]
    },
    {
      "cell_type": "markdown",
      "metadata": {},
      "source": [
        "## Setup\n"
      ]
    },
    {
      "cell_type": "code",
      "execution_count": null,
      "metadata": {},
      "outputs": [],
      "source": [
        "# Clone repository\n",
        "!git clone https://github.com/Eran-BA/PoT.git\n",
        "%cd PoT\n"
      ]
    },
    {
      "cell_type": "code",
      "execution_count": null,
      "metadata": {},
      "outputs": [],
      "source": [
        "# Install core dependencies\n",
        "!pip install torch torchvision torchaudio --index-url https://download.pytorch.org/whl/cu118\n",
        "!pip install transformers datasets scipy numpy tqdm matplotlib seaborn\n",
        "\n",
        "# Install maze-dataset library (the key improvement!)\n",
        "!pip install maze-dataset\n"
      ]
    }
  ],
  "metadata": {
    "language_info": {
      "name": "python"
    }
  },
  "nbformat": 4,
  "nbformat_minor": 2
}
