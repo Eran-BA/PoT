{
  "cells": [
    {
      "cell_type": "markdown",
      "metadata": {},
      "source": [
        "# 🧩 Maze Solving: PoH-HRM vs Baseline Transformer\n",
        "\n",
        "**A/B Test on A100 GPU**\n",
        "\n",
        "This notebook compares:\n",
        "- **Baseline**: Standard Transformer encoder-decoder\n",
        "- **PoH-HRM**: Pointer-over-Heads with Hierarchical Reasoning Module (f_L + f_H with T=4)\n",
        "\n",
        "**Task**: Find shortest path through randomly generated mazes\n",
        "\n",
        "**Why Mazes?**\n",
        "- Requires multi-step planning\n",
        "- Benefits from hierarchical reasoning\n",
        "- Challenging sequential decision-making\n"
      ]
    },
    {
      "cell_type": "markdown",
      "metadata": {},
      "source": [
        "## Setup\n"
      ]
    },
    {
      "cell_type": "code",
      "execution_count": null,
      "metadata": {},
      "outputs": [],
      "source": [
        "# Clone repository\n",
        "!git clone https://github.com/Eran-BA/PoT.git\n",
        "%cd PoT\n"
      ]
    },
    {
      "cell_type": "code",
      "execution_count": null,
      "metadata": {},
      "outputs": [],
      "source": [
        "# Install dependencies\n",
        "!pip install torch torchvision torchaudio --index-url https://download.pytorch.org/whl/cu118\n",
        "!pip install transformers datasets scipy numpy tqdm matplotlib seaborn\n"
      ]
    },
    {
      "cell_type": "code",
      "execution_count": null,
      "metadata": {},
      "outputs": [],
      "source": [
        "# Verify GPU\n",
        "import torch\n",
        "print(f\"GPU Available: {torch.cuda.is_available()}\")\n",
        "print(f\"GPU Name: {torch.cuda.get_device_name(0) if torch.cuda.is_available() else 'N/A'}\")\n",
        "print(f\"GPU Memory: {torch.cuda.get_device_properties(0).total_memory / 1e9:.2f} GB\" if torch.cuda.is_available() else \"N/A\")\n"
      ]
    },
    {
      "cell_type": "markdown",
      "metadata": {},
      "source": [
        "## Run Maze A/B Test\n"
      ]
    },
    {
      "cell_type": "code",
      "execution_count": null,
      "metadata": {},
      "outputs": [],
      "source": [
        "# Small mazes (11x11, 15x15)\n",
        "!python experiments/maze_ab_test.py \\\n",
        "  --sizes 11 15 \\\n",
        "  --epochs 100 \\\n",
        "  --train-samples 2000 \\\n",
        "  --test-samples 400 \\\n",
        "  --R 4 \\\n",
        "  --T 4 \\\n",
        "  --n-heads 4\n"
      ]
    },
    {
      "cell_type": "code",
      "execution_count": null,
      "metadata": {},
      "outputs": [],
      "source": [
        "# Larger mazes (19x19, 25x25) - where HRM should shine!\n",
        "!python experiments/maze_ab_test.py \\\n",
        "  --sizes 19 25 \\\n",
        "  --epochs 150 \\\n",
        "  --train-samples 3000 \\\n",
        "  --test-samples 500 \\\n",
        "  --R 4 \\\n",
        "  --T 4 \\\n",
        "  --n-heads 4\n"
      ]
    },
    {
      "cell_type": "markdown",
      "metadata": {},
      "source": [
        "## Visualize Results\n"
      ]
    },
    {
      "cell_type": "code",
      "execution_count": null,
      "metadata": {},
      "outputs": [],
      "source": [
        "import pandas as pd\n",
        "import matplotlib.pyplot as plt\n",
        "import seaborn as sns\n",
        "\n",
        "# Load results\n",
        "df = pd.read_csv('experiments/results/maze_ab/maze_ab_R4_T4_nheads4.csv')\n",
        "\n",
        "# Display\n",
        "print(\"\\n📊 Maze Solving Results\")\n",
        "print(\"=\"*80)\n",
        "print(df.to_string())\n",
        "\n",
        "# Plot success rates\n",
        "plt.figure(figsize=(12, 5))\n",
        "\n",
        "plt.subplot(1, 2, 1)\n",
        "baseline_data = df[df['model'] == 'Baseline']\n",
        "poh_data = df[df['model'] == 'PoH-HRM']\n",
        "\n",
        "x = range(len(baseline_data))\n",
        "width = 0.35\n",
        "\n",
        "plt.bar([i - width/2 for i in x], baseline_data['final_success'], width, label='Baseline', alpha=0.8)\n",
        "plt.bar([i + width/2 for i in x], poh_data['final_success'], width, label='PoH-HRM', alpha=0.8)\n",
        "\n",
        "plt.xlabel('Maze Size')\n",
        "plt.ylabel('Success Rate')\n",
        "plt.title('Maze Solving Success Rate by Model')\n",
        "plt.xticks(x, [f\"{int(s)}x{int(s)}\" for s in baseline_data['maze_size']])\n",
        "plt.legend()\n",
        "plt.grid(axis='y', alpha=0.3)\n",
        "\n",
        "plt.subplot(1, 2, 2)\n",
        "plt.bar([i - width/2 for i in x], baseline_data['final_overlap'], width, label='Baseline', alpha=0.8)\n",
        "plt.bar([i + width/2 for i in x], poh_data['final_overlap'], width, label='PoH-HRM', alpha=0.8)\n",
        "\n",
        "plt.xlabel('Maze Size')\n",
        "plt.ylabel('Path Overlap')\n",
        "plt.title('Path Quality (Overlap with Optimal)')\n",
        "plt.xticks(x, [f\"{int(s)}x{int(s)}\" for s in baseline_data['maze_size']])\n",
        "plt.legend()\n",
        "plt.grid(axis='y', alpha=0.3)\n",
        "\n",
        "plt.tight_layout()\n",
        "plt.savefig('maze_results.png', dpi=300, bbox_inches='tight')\n",
        "plt.show()\n",
        "\n",
        "# Calculate improvements\n",
        "print(\"\\n🏆 PoH-HRM Improvements:\")\n",
        "print(\"=\"*80)\n",
        "for idx, row in poh_data.iterrows():\n",
        "    maze_size = row['maze_size']\n",
        "    baseline_success = baseline_data[baseline_data['maze_size'] == maze_size]['final_success'].values[0]\n",
        "    poh_success = row['final_success']\n",
        "    improvement = ((poh_success - baseline_success) / baseline_success) * 100 if baseline_success > 0 else 0\n",
        "    print(f\"Maze {int(maze_size)}x{int(maze_size)}: {improvement:+.1f}% improvement (Baseline: {baseline_success:.1%}, PoH: {poh_success:.1%})\")\n"
      ]
    },
    {
      "cell_type": "markdown",
      "metadata": {},
      "source": [
        "## Download Results\n"
      ]
    },
    {
      "cell_type": "code",
      "execution_count": null,
      "metadata": {},
      "outputs": [],
      "source": [
        "from google.colab import files\n",
        "\n",
        "# Download CSV results\n",
        "files.download('experiments/results/maze_ab/maze_ab_R4_T4_nheads4.csv')\n",
        "\n",
        "# Download plot\n",
        "files.download('maze_results.png')\n"
      ]
    }
  ],
  "metadata": {
    "language_info": {
      "name": "python"
    }
  },
  "nbformat": 4,
  "nbformat_minor": 2
}
