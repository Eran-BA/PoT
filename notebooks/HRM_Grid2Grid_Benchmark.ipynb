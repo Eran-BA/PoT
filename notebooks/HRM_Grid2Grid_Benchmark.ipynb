{
  "cells": [
    {
      "cell_type": "markdown",
      "metadata": {},
      "source": ["# HRM Grid-to-Grid Maze Benchmark\\n\\nThis notebook implements the **correct** HRM task format:\\n- **Input**: 30×30 maze grid (900 tokens)\\n- **Output**: 30×30 solution grid with path marked (900 tokens)\\n\\nThis matches the HRM paper\\'s task formulation (74% accuracy reported).\\n\\nPreviously we were doing autoregressive path generation (easier → 100% accuracy)."]
    },
    {
      "cell_type": "code",
      "execution_count": null,
      "metadata": {},
      "outputs": [],
      "source": ["%%bash\\n# Clone repo and install deps\\nif [ ! -d \\"/content/PoT\\" ]; then\\n  git clone https://github.com/Eran-BA/PoT.git /content/PoT\\nfi\\ncd /content/PoT\\ngit checkout scaling_parameter_size\\ngit pull\\npip install -q tqdm numpy torch"]
    },
    {
      "cell_type": "code",
      "execution_count": null,
      "metadata": {},
      "outputs": [],
      "source": ["%%bash\\n# Download HRM maze-30x30-hard dataset\\ncd /content/PoT\\nif [ ! -d \\"vendor/hrm\\" ]; then\\n  mkdir -p vendor\\n  git clone https://github.com/sapientinc/HRM vendor/hrm\\nfi\\ncd vendor/hrm\\npip install -q -r requirements.txt\\npython dataset/build_maze_dataset.py --output-dir data/maze-30x30-hard-1k"]
    },
    {
      "cell_type": "code",
      "execution_count": null,
      "metadata": {},
      "outputs": [],
      "source": ["%%bash\\n# Run Baseline Transformer\\ncd /content/PoT\\npython -u experiments/maze_grid2grid_hrm.py \\\\\\n  --data-dir vendor/hrm/data/maze-30x30-hard-1k \\\\\\n  --model baseline \\\\\\n  --d-model 256 \\\\\\n  --n-heads 8 \\\\\\n  --n-layers 4 \\\\\\n  --batch-size 32 \\\\\\n  --epochs 100 \\\\\\n  --lr 1e-3 \\\\\\n  --output experiments/results/grid2grid_baseline \\\\\\n  --seed 42"]
    },
    {
      "cell_type": "code",
      "execution_count": null,
      "metadata": {},
      "outputs": [],
      "source": ["%%bash\\n# Run PoH-HRM\\ncd /content/PoT\\npython -u experiments/maze_grid2grid_hrm.py \\\\\\n  --data-dir vendor/hrm/data/maze-30x30-hard-1k \\\\\\n  --model poh \\\\\\n  --d-model 256 \\\\\\n  --n-heads 8 \\\\\\n  --n-layers 1 \\\\\\n  --R 4 \\\\\\n  --T 4 \\\\\\n  --batch-size 32 \\\\\\n  --epochs 100 \\\\\\n  --lr 1e-3 \\\\\\n  --output experiments/results/grid2grid_poh \\\\\\n  --seed 42"]
    },
    {
      "cell_type": "code",
      "execution_count": null,
      "metadata": {},
      "outputs": [],
      "source": ["# Compare results\\nimport json\\n\\nbaseline_results = json.load(open(\\'/content/PoT/experiments/results/grid2grid_baseline/baseline_results.json\\'))\\npoh_results = json.load(open(\\'/content/PoT/experiments/results/grid2grid_poh/poh_results.json\\'))\\n\\nprint(\\"\\\\n\\" + \\"=\\"*80)\\nprint(\\"GRID-TO-GRID MAZE BENCHMARK RESULTS (HRM Task Format)\\")\\nprint(\\"=\\"*80)\\nprint(f\\"\\\\nHRM Paper (30x30 Hard): ~74% grid accuracy\\\\n\\")\\nprint(f\\"Baseline Transformer:\\")\\nprint(f\\"  Parameters: {baseline_results[\\'parameters\\']:,}\\")\\nprint(f\\"  Grid Accuracy: {baseline_results[\\'best_grid_acc\\']:.2f}%\\")\\nprint(f\\"  Token Accuracy: {baseline_results[\\'final_token_acc\\']:.2f}%\\")\\nprint(f\\"\\\\nPoH-HRM (R=4, T=4):\\")\\nprint(f\\"  Parameters: {poh_results[\\'parameters\\']:,}\\")\\nprint(f\\"  Grid Accuracy: {poh_results[\\'best_grid_acc\\']:.2f}%\\")\\nprint(f\\"  Token Accuracy: {poh_results[\\'final_token_acc\\']:.2f}%\\")\\nprint(f\\"\\\\n\\" + \\"=\\"*80)"]
    }
  ],
  "metadata": {
    "accelerator": "GPU",
    "colab": {"provenance": []},
    "kernelspec": {"display_name": "Python 3", "name": "python3"},
    "language_info": {"name": "python"}
  },
  "nbformat": 4,
  "nbformat_minor": 0
}
