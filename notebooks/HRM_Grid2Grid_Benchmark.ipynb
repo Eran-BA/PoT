{
  "cells": [
    {
      "cell_type": "markdown",
      "metadata": {},
      "source": [
        "# HRM Grid-to-Grid Maze Benchmark\n",
        "\n",
        "This notebook implements the **correct** HRM task format:\n",
        "- **Input**: 30×30 maze grid (900 tokens)\n",
        "- **Output**: 30×30 solution grid with path marked (900 tokens)\n",
        "\n",
        "This matches the HRM paper's task formulation (74% accuracy reported).\n",
        "\n",
        "Previously we were doing autoregressive path generation (easier → 100% accuracy).\n"
      ]
    },
    {
      "cell_type": "code",
      "execution_count": null,
      "metadata": {
        "vscode": {
          "languageId": "plaintext"
        }
      },
      "outputs": [],
      "source": [
        "%%bash\n",
        "# Clone repo and install deps\n",
        "if [ ! -d \"/content/PoT\" ]; then\n",
        "  git clone https://github.com/Eran-BA/PoT.git /content/PoT\n",
        "fi\n",
        "cd /content/PoT\n",
        "git checkout scaling_parameter_size\n",
        "git pull\n",
        "pip install -q tqdm numpy torch\n"
      ]
    },
    {
      "cell_type": "code",
      "execution_count": null,
      "metadata": {
        "vscode": {
          "languageId": "plaintext"
        }
      },
      "outputs": [],
      "source": [
        "%%bash\n",
        "# Download HRM maze-30x30-hard dataset\n",
        "cd /content/PoT\n",
        "if [ ! -d \"vendor/hrm\" ]; then\n",
        "  mkdir -p vendor\n",
        "  git clone https://github.com/sapientinc/HRM vendor/hrm\n",
        "fi\n",
        "cd vendor/hrm\n",
        "pip install -q -r requirements.txt\n",
        "python dataset/build_maze_dataset.py --output-dir data/maze-30x30-hard-1k\n"
      ]
    },
    {
      "cell_type": "code",
      "execution_count": null,
      "metadata": {
        "vscode": {
          "languageId": "plaintext"
        }
      },
      "outputs": [],
      "source": [
        "%%bash\n",
        "# Run Baseline Transformer\n",
        "cd /content/PoT\n",
        "python -u experiments/maze_grid2grid_hrm.py \\\n",
        "  --data-dir vendor/hrm/data/maze-30x30-hard-1k \\\n",
        "  --model baseline \\\n",
        "  --d-model 256 \\\n",
        "  --n-heads 8 \\\n",
        "  --n-layers 4 \\\n",
        "  --batch-size 32 \\\n",
        "  --epochs 100 \\\n",
        "  --lr 1e-3 \\\n",
        "  --output experiments/results/grid2grid_baseline \\\n",
        "  --seed 42\n"
      ]
    },
    {
      "cell_type": "code",
      "execution_count": null,
      "metadata": {
        "vscode": {
          "languageId": "plaintext"
        }
      },
      "outputs": [],
      "source": [
        "%%bash\n",
        "# Run PoH-HRM\n",
        "cd /content/PoT\n",
        "python -u experiments/maze_grid2grid_hrm.py \\\n",
        "  --data-dir vendor/hrm/data/maze-30x30-hard-1k \\\n",
        "  --model poh \\\n",
        "  --d-model 256 \\\n",
        "  --n-heads 8 \\\n",
        "  --n-layers 1 \\\n",
        "  --R 4 \\\n",
        "  --T 4 \\\n",
        "  --batch-size 32 \\\n",
        "  --epochs 100 \\\n",
        "  --lr 1e-3 \\\n",
        "  --output experiments/results/grid2grid_poh \\\n",
        "  --seed 42\n"
      ]
    },
    {
      "cell_type": "code",
      "execution_count": null,
      "metadata": {},
      "outputs": [],
      "source": [
        "# Compare results\n",
        "import json\n",
        "\n",
        "baseline_results = json.load(open('/content/PoT/experiments/results/grid2grid_baseline/baseline_results.json'))\n",
        "poh_results = json.load(open('/content/PoT/experiments/results/grid2grid_poh/poh_results.json'))\n",
        "\n",
        "print(\"\\n\" + \"=\"*80)\n",
        "print(\"GRID-TO-GRID MAZE BENCHMARK RESULTS (HRM Task Format)\")\n",
        "print(\"=\"*80)\n",
        "print(f\"\\nHRM Paper (30x30 Hard): ~74% grid accuracy\\n\")\n",
        "print(f\"Baseline Transformer:\")\n",
        "print(f\"  Parameters: {baseline_results['parameters']:,}\")\n",
        "print(f\"  Grid Accuracy: {baseline_results['best_grid_acc']:.2f}%\")\n",
        "print(f\"  Token Accuracy: {baseline_results['final_token_acc']:.2f}%\")\n",
        "print(f\"\\nPoH-HRM (R=4, T=4):\")\n",
        "print(f\"  Parameters: {poh_results['parameters']:,}\")\n",
        "print(f\"  Grid Accuracy: {poh_results['best_grid_acc']:.2f}%\")\n",
        "print(f\"  Token Accuracy: {poh_results['final_token_acc']:.2f}%\")\n",
        "print(f\"\\n\" + \"=\"*80)\n"
      ]
    }
  ],
  "metadata": {
    "language_info": {
      "name": "python"
    }
  },
  "nbformat": 4,
  "nbformat_minor": 2
}
