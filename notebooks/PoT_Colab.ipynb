{
 "cells": [
  {
   "cell_type": "markdown",
   "metadata": {},
   "source": [
    "# Pointer-over-Heads Transformer (PoT) - Full Experimental Pipeline\n",
    "\n",
    "**Dynamic multi-head attention with adaptive routing for dependency parsing**\n",
    "\n",
    "**Author:** Eran Ben Artzy  \n",
    "**License:** Apache 2.0  \n",
    "**Repository:** https://github.com/Eran-BA/PoT\n",
    "\n",
    "---\n",
    "\n",
    "## What's New in This Version\n",
    "\n",
    "✅ **Core Features:**\n",
    "- Baseline vs PoH A/B comparison with parameter matching\n",
    "- Multi-head routing (soft mixture, hard top-k)\n",
    "- Adaptive halting (fixed, entropy, ACT-style)\n",
    "- UAS and LAS evaluation with punctuation masking\n",
    "\n",
    "✅ **New Advanced Features:**\n",
    "- **Deep Supervision**: Auxiliary losses on intermediate iterations\n",
    "- **ACT-style Differentiable Halting**: Adaptive computation with ponder cost\n",
    "- **Gradient Modes**: Full BPTT vs HRM-style last-iterate gradients\n",
    "- **Comprehensive Logging**: All metrics, hyperparameters, and diagnostics\n",
    "\n",
    "---\n",
    "\n",
    "## Quick Navigation\n",
    "\n",
    "1. **Setup** (5 min) - GPU check, clone repo, install dependencies, download data\n",
    "2. **Smoke Test** (2 min) - Verify installation with dummy data\n",
    "3. **Quick A/B Test** (10 min) - Baseline vs PoH on real UD data\n",
    "4. **Core Ablations** (30 min) - Test iterations, routing, halting modes\n",
    "5. **Advanced: Deep Supervision & ACT** (20 min) - Iterative refinement experiments\n",
    "6. **Advanced: Gradient Modes** (15 min) - Full BPTT vs last-iterate\n",
    "7. **Visualization** (5 min) - Generate plots and analysis\n",
    "8. **Multi-Seed Robustness** (45 min) - Run best config with 3 seeds\n",
    "9. **Results Summary** - Aggregate and package all results\n",
    "\n",
    "**Total Runtime:** ~2.5 hours on A100 GPU"
   ]
  },
  {
   "cell_type": "markdown",
   "metadata": {},
   "source": [
    "---\n",
    "## 1. Setup (5 minutes)\n",
    "\n",
    "### Check GPU"
   ]
  },
  {
   "cell_type": "code",
   "execution_count": null,
   "metadata": {},
   "outputs": [],
   "source": [
    "!nvidia-smi"
   ]
  },
  {
   "cell_type": "markdown",
   "metadata": {},
   "source": [
    "### Clone Repository"
   ]
  },
  {
   "cell_type": "code",
   "execution_count": null,
   "metadata": {},
   "outputs": [],
   "source": [
    "!git clone https://github.com/Eran-BA/PoT.git\n",
    "%cd PoT"
   ]
  },
  {
   "cell_type": "markdown",
   "metadata": {},
   "source": [
    "### Install Dependencies"
   ]
  },
  {
   "cell_type": "code",
   "execution_count": null,
   "metadata": {},
   "outputs": [],
   "source": [
    "!pip install -q -r requirements.txt\n",
    "print(\"✓ Installation complete!\")"
   ]
  },
  {
   "cell_type": "markdown",
   "metadata": {},
   "source": [
    "### Download Universal Dependencies English EWT Dataset"
   ]
  },
  {
   "cell_type": "code",
   "execution_count": null,
   "metadata": {},
   "outputs": [],
   "source": [
    "!mkdir -p ud_data\n",
    "!wget -q https://raw.githubusercontent.com/UniversalDependencies/UD_English-EWT/master/en_ewt-ud-train.conllu -O ud_data/en_ewt-ud-train.conllu\n",
    "!wget -q https://raw.githubusercontent.com/UniversalDependencies/UD_English-EWT/master/en_ewt-ud-dev.conllu -O ud_data/en_ewt-ud-dev.conllu\n",
    "!wget -q https://raw.githubusercontent.com/UniversalDependencies/UD_English-EWT/master/en_ewt-ud-test.conllu -O ud_data/en_ewt-ud-test.conllu\n",
    "\n",
    "!ls -lh ud_data/\n",
    "!wc -l ud_data/*.conllu\n",
    "print(\"\\n✓ Dataset downloaded successfully!\")"
   ]
  },
  {
   "cell_type": "markdown",
   "metadata": {},
   "source": [
    "---\n",
    "## 2. Smoke Test (2 minutes)\n",
    "\n",
    "Quick verification with dummy data:"
   ]
  },
  {
   "cell_type": "code",
   "execution_count": null,
   "metadata": {},
   "outputs": [],
   "source": [
    "!python ab_ud_pointer_vs_baseline.py \\\n",
    "  --data_source dummy \\\n",
    "  --epochs 2 \\\n",
    "  --batch_size 8 \\\n",
    "  --max_inner_iters 2 \\\n",
    "  --log_csv smoke_test.csv\n",
    "\n",
    "print(\"\\n\" + \"=\"*80)\n",
    "print(\"✓ Smoke test complete!\")\n",
    "print(\"=\"*80)"
   ]
  },
  {
   "cell_type": "markdown",
   "metadata": {},
   "source": [
    "---\n",
    "## 3. Quick A/B Test on Real Data (10 minutes)\n",
    "\n",
    "Run a parameter-matched comparison:"
   ]
  },
  {
   "cell_type": "code",
   "execution_count": null,
   "metadata": {},
   "outputs": [],
   "source": [
    "!python ab_ud_pointer_vs_baseline.py \\\n",
    "  --data_source conllu \\\n",
    "  --conllu_dir ud_data \\\n",
    "  --epochs 3 \\\n",
    "  --batch_size 32 \\\n",
    "  --lr 3e-5 \\\n",
    "  --max_inner_iters 1 \\\n",
    "  --routing_topk 0 \\\n",
    "  --halting_mode fixed \\\n",
    "  --param_match baseline \\\n",
    "  --log_csv quick_ab.csv"
   ]
  },
  {
   "cell_type": "markdown",
   "metadata": {},
   "source": [
    "---\n",
    "## 4. Core Ablations (30 minutes)\n",
    "\n",
    "### 4.1 Iterations Ablation"
   ]
  },
  {
   "cell_type": "code",
   "execution_count": null,
   "metadata": {},
   "outputs": [],
   "source": [
    "for iters in [1, 2, 3, 5]:\n",
    "    print(f\"\\nTesting {iters} inner iterations...\")\n",
    "    !python ab_ud_pointer_vs_baseline.py \\\n",
    "      --data_source conllu --conllu_dir ud_data \\\n",
    "      --epochs 3 --batch_size 32 --lr 3e-5 \\\n",
    "      --max_inner_iters {iters} --routing_topk 0 \\\n",
    "      --halting_mode fixed --param_match baseline \\\n",
    "      --log_csv ablation_iterations.csv\n",
    "\n",
    "print(\"\\n✓ Iterations ablation complete!\")"
   ]
  },
  {
   "cell_type": "markdown",
   "metadata": {},
   "source": [
    "### 4.2 Routing Ablation"
   ]
  },
  {
   "cell_type": "code",
   "execution_count": null,
   "metadata": {},
   "outputs": [],
   "source": [
    "for topk in [0, 2]:\n",
    "    mode = \"soft\" if topk == 0 else f\"top{topk}\"\n",
    "    print(f\"\\nTesting {mode} routing...\")\n",
    "    !python ab_ud_pointer_vs_baseline.py \\\n",
    "      --data_source conllu --conllu_dir ud_data \\\n",
    "      --epochs 3 --batch_size 32 --lr 3e-5 \\\n",
    "      --max_inner_iters 1 --routing_topk {topk} \\\n",
    "      --halting_mode fixed --param_match baseline \\\n",
    "      --log_csv ablation_routing.csv\n",
    "\n",
    "print(\"\\n✓ Routing ablation complete!\")"
   ]
  },
  {
   "cell_type": "markdown",
   "metadata": {},
   "source": [
    "### 4.3 Halting Mode Ablation"
   ]
  },
  {
   "cell_type": "code",
   "execution_count": null,
   "metadata": {},
   "outputs": [],
   "source": [
    "for mode in [\"fixed\", \"entropy\"]:\n",
    "    print(f\"\\nTesting {mode} halting...\")\n",
    "    !python ab_ud_pointer_vs_baseline.py \\\n",
    "      --data_source conllu --conllu_dir ud_data \\\n",
    "      --epochs 3 --batch_size 32 --lr 3e-5 \\\n",
    "      --max_inner_iters 3 --routing_topk 0 \\\n",
    "      --halting_mode {mode} --ent_threshold 0.7 \\\n",
    "      --param_match baseline --log_csv ablation_halting.csv\n",
    "\n",
    "print(\"\\n✓ Halting mode ablation complete!\")"
   ]
  },
  {
   "cell_type": "markdown",
   "metadata": {},
   "source": [
    "---\n",
    "## 5. Advanced: Deep Supervision & ACT (20 minutes)\n",
    "\n",
    "### 5.1 Deep Supervision"
   ]
  },
  {
   "cell_type": "code",
   "execution_count": null,
   "metadata": {},
   "outputs": [],
   "source": [
    "print(\"Testing deep supervision...\\n\")\n",
    "!python ab_ud_pointer_vs_baseline.py \\\n",
    "  --data_source conllu --conllu_dir ud_data \\\n",
    "  --epochs 3 --batch_size 32 --lr 3e-5 \\\n",
    "  --max_inner_iters 3 --routing_topk 0 \\\n",
    "  --halting_mode fixed --deep_supervision \\\n",
    "  --ramp_strength 1.0 --param_match baseline \\\n",
    "  --log_csv deep_supervision.csv"
   ]
  },
  {
   "cell_type": "markdown",
   "metadata": {},
   "source": [
    "### 5.2 ACT-style Differentiable Halting"
   ]
  },
  {
   "cell_type": "code",
   "execution_count": null,
   "metadata": {},
   "outputs": [],
   "source": [
    "print(\"Testing ACT-style halting...\\n\")\n",
    "!python ab_ud_pointer_vs_baseline.py \\\n",
    "  --data_source conllu --conllu_dir ud_data \\\n",
    "  --epochs 3 --batch_size 32 --lr 3e-5 \\\n",
    "  --max_inner_iters 5 --routing_topk 0 \\\n",
    "  --halting_mode fixed --act_halting \\\n",
    "  --ponder_coef 1e-3 --param_match baseline \\\n",
    "  --log_csv act_halting.csv"
   ]
  },
  {
   "cell_type": "markdown",
   "metadata": {},
   "source": [
    "### 5.3 Combined: Deep Supervision + ACT"
   ]
  },
  {
   "cell_type": "code",
   "execution_count": null,
   "metadata": {},
   "outputs": [],
   "source": [
    "print(\"Testing combined deep supervision + ACT...\\n\")\n",
    "!python ab_ud_pointer_vs_baseline.py \\\n",
    "  --data_source conllu --conllu_dir ud_data \\\n",
    "  --epochs 3 --batch_size 32 --lr 3e-5 \\\n",
    "  --max_inner_iters 5 --routing_topk 0 \\\n",
    "  --halting_mode fixed --deep_supervision \\\n",
    "  --act_halting --ramp_strength 1.0 \\\n",
    "  --ponder_coef 1e-3 --param_match baseline \\\n",
    "  --log_csv combined_refinement.csv"
   ]
  },
  {
   "cell_type": "markdown",
   "metadata": {},
   "source": [
    "---\n",
    "## 6. Advanced: Gradient Modes (15 minutes)\n",
    "\n",
    "### 6.1 Full BPTT"
   ]
  },
  {
   "cell_type": "code",
   "execution_count": null,
   "metadata": {},
   "outputs": [],
   "source": [
    "print(\"Testing full BPTT...\\n\")\n",
    "!python ab_ud_pointer_vs_baseline.py \\\n",
    "  --data_source conllu --conllu_dir ud_data \\\n",
    "  --epochs 3 --batch_size 32 --lr 3e-5 \\\n",
    "  --max_inner_iters 3 --routing_topk 0 \\\n",
    "  --halting_mode fixed --grad_mode full \\\n",
    "  --param_match baseline --log_csv grad_full.csv"
   ]
  },
  {
   "cell_type": "markdown",
   "metadata": {},
   "source": [
    "### 6.2 HRM-style Last-Iterate"
   ]
  },
  {
   "cell_type": "code",
   "execution_count": null,
   "metadata": {},
   "outputs": [],
   "source": [
    "print(\"Testing HRM-style last-iterate gradients...\\n\")\n",
    "!python ab_ud_pointer_vs_baseline.py \\\n",
    "  --data_source conllu --conllu_dir ud_data \\\n",
    "  --epochs 3 --batch_size 32 --lr 3e-5 \\\n",
    "  --max_inner_iters 3 --routing_topk 0 \\\n",
    "  --halting_mode fixed --grad_mode last \\\n",
    "  --param_match baseline --log_csv grad_last.csv"
   ]
  },
  {
   "cell_type": "markdown",
   "metadata": {},
   "source": [
    "---\n",
    "## 7. Visualization (5 minutes)"
   ]
  },
  {
   "cell_type": "code",
   "execution_count": null,
   "metadata": {},
   "outputs": [],
   "source": [
    "import pandas as pd\n",
    "import matplotlib.pyplot as plt\n",
    "import seaborn as sns\n",
    "import glob\n",
    "\n",
    "sns.set_style(\"whitegrid\")\n",
    "plt.rcParams['figure.figsize'] = (12, 6)\n",
    "\n",
    "# Load all CSV files\n",
    "csv_files = glob.glob(\"*.csv\")\n",
    "print(f\"Found {len(csv_files)} result files\")\n",
    "\n",
    "for f in csv_files:\n",
    "    print(f\"  - {f}\")"
   ]
  },
  {
   "cell_type": "markdown",
   "metadata": {},
   "source": [
    "### Plot: Configuration Comparison"
   ]
  },
  {
   "cell_type": "code",
   "execution_count": null,
   "metadata": {},
   "outputs": [],
   "source": [
    "# Compare all configurations\n",
    "configs = []\n",
    "uas_vals = []\n",
    "\n",
    "files_to_check = [\n",
    "    (\"quick_ab.csv\", \"Baseline\", \"baseline_dev_uas\"),\n",
    "    (\"quick_ab.csv\", \"PoH Basic\", \"poh_dev_uas\"),\n",
    "    (\"deep_supervision.csv\", \"PoH + Deep Sup\", \"poh_dev_uas\"),\n",
    "    (\"act_halting.csv\", \"PoH + ACT\", \"poh_dev_uas\"),\n",
    "    (\"combined_refinement.csv\", \"PoH + Deep Sup + ACT\", \"poh_dev_uas\"),\n",
    "]\n",
    "\n",
    "for fname, label, col in files_to_check:\n",
    "    try:\n",
    "        df = pd.read_csv(fname)\n",
    "        df_final = df[df['epoch'] == df['epoch'].max()]\n",
    "        configs.append(label)\n",
    "        uas_vals.append(df_final[col].mean())\n",
    "    except:\n",
    "        pass\n",
    "\n",
    "if configs:\n",
    "    plt.figure(figsize=(10, 6))\n",
    "    colors = ['coral'] + ['skyblue'] * (len(configs) - 1)\n",
    "    plt.bar(configs, uas_vals, color=colors, alpha=0.8, edgecolor='black')\n",
    "    plt.ylabel('Dev UAS', fontsize=12)\n",
    "    plt.title('Configuration Comparison', fontsize=14, fontweight='bold')\n",
    "    plt.xticks(rotation=15, ha='right')\n",
    "    plt.grid(axis='y', alpha=0.3)\n",
    "    \n",
    "    for i, v in enumerate(uas_vals):\n",
    "        plt.text(i, v + 0.001, f'{v:.3f}', ha='center', fontweight='bold')\n",
    "    \n",
    "    plt.tight_layout()\n",
    "    plt.savefig('plot_comparison.png', dpi=150)\n",
    "    plt.show()\n",
    "    print(\"✓ Saved plot_comparison.png\")\n",
    "else:\n",
    "    print(\"⚠ No data to plot\")"
   ]
  },
  {
   "cell_type": "markdown",
   "metadata": {},
   "source": [
    "---\n",
    "## 8. Multi-Seed Robustness (45 minutes)"
   ]
  },
  {
   "cell_type": "code",
   "execution_count": null,
   "metadata": {},
   "outputs": [],
   "source": [
    "print(\"Running multi-seed evaluation (optimal config)\\n\")\n",
    "\n",
    "for seed in [42, 1337, 2023]:\n",
    "    print(f\"\\n{'='*80}\")\n",
    "    print(f\"Seed: {seed}\")\n",
    "    print(f\"{'='*80}\")\n",
    "    !python ab_ud_pointer_vs_baseline.py \\\n",
    "      --data_source conllu --conllu_dir ud_data \\\n",
    "      --epochs 5 --batch_size 32 --lr 3e-5 \\\n",
    "      --max_inner_iters 1 --routing_topk 0 \\\n",
    "      --halting_mode fixed --param_match baseline \\\n",
    "      --seed {seed} --log_csv multiseed_results.csv\n",
    "\n",
    "print(\"\\n✓ Multi-seed evaluation complete!\")"
   ]
  },
  {
   "cell_type": "markdown",
   "metadata": {},
   "source": [
    "### Analyze Multi-Seed Results"
   ]
  },
  {
   "cell_type": "code",
   "execution_count": null,
   "metadata": {},
   "outputs": [],
   "source": [
    "df = pd.read_csv('multiseed_results.csv')\n",
    "df_final = df[df['epoch'] == df['epoch'].max()]\n",
    "\n",
    "print(\"\\n\" + \"=\"*80)\n",
    "print(\"MULTI-SEED ROBUSTNESS ANALYSIS\")\n",
    "print(\"=\"*80)\n",
    "\n",
    "for model in ['baseline', 'poh']:\n",
    "    uas_col = f'{model}_dev_uas'\n",
    "    las_col = f'{model}_dev_las'\n",
    "    \n",
    "    uas_mean = df_final[uas_col].mean()\n",
    "    uas_std = df_final[uas_col].std()\n",
    "    las_mean = df_final[las_col].mean()\n",
    "    las_std = df_final[las_col].std()\n",
    "    \n",
    "    print(f\"\\n{model.upper()}:\")\n",
    "    print(f\"  UAS: {uas_mean:.4f} ± {uas_std:.4f}\")\n",
    "    print(f\"  LAS: {las_mean:.4f} ± {las_std:.4f}\")\n",
    "\n",
    "uas_improvement = (df_final['poh_dev_uas'].mean() - df_final['baseline_dev_uas'].mean()) * 100\n",
    "print(f\"\\n✅ PoH Improvement: +{uas_improvement:.2f}% UAS\")\n",
    "print(\"=\"*80)"
   ]
  },
  {
   "cell_type": "markdown",
   "metadata": {},
   "source": [
    "---\n",
    "## 9. Results Summary"
   ]
  },
  {
   "cell_type": "code",
   "execution_count": null,
   "metadata": {},
   "outputs": [],
   "source": [
    "print(\"\\n\" + \"=\"*80)\n",
    "print(\"COMPREHENSIVE RESULTS SUMMARY\")\n",
    "print(\"=\"*80)\n",
    "\n",
    "print(\"\\n📊 Generated CSV files:\")\n",
    "!ls -lh *.csv\n",
    "\n",
    "print(\"\\n📈 Generated plots:\")\n",
    "!ls -lh *.png 2>/dev/null || echo \"No plots generated yet\"\n",
    "\n",
    "print(\"\\n📦 Creating results package...\")\n",
    "!zip -q pot_colab_results.zip *.csv *.png 2>/dev/null || echo \"Creating package...\"\n",
    "!ls -lh pot_colab_results.zip 2>/dev/null || echo \"Package not created\"\n",
    "\n",
    "print(\"\\n✅ All experiments complete!\")\n",
    "print(\"\\n📥 Download 'pot_colab_results.zip' for full results\")\n",
    "print(\"=\"*80)"
   ]
  },
  {
   "cell_type": "markdown",
   "metadata": {},
   "source": [
    "---\n",
    "\n",
    "## 🎉 Experiments Complete!\n",
    "\n",
    "**What we tested:**\n",
    "- ✅ Baseline vs PoH comparison with parameter matching\n",
    "- ✅ Core ablations (iterations, routing, halting)\n",
    "- ✅ Advanced features (deep supervision, ACT, gradient modes)\n",
    "- ✅ Multi-seed robustness evaluation\n",
    "- ✅ Comprehensive visualization and analysis\n",
    "\n",
    "**Next Steps:**\n",
    "1. Download `pot_colab_results.zip` for all results\n",
    "2. Analyze CSV files for detailed metrics\n",
    "3. Use plots for publication-ready figures\n",
    "\n",
    "**For more information:**\n",
    "- See `DEEP_SUPERVISION_GUIDE.md` for implementation details\n",
    "- See `GRADIENT_MODES_THEORY.md` for mathematical foundations\n",
    "- Visit https://github.com/Eran-BA/PoT for documentation\n",
    "\n",
    "**Author:** Eran Ben Artzy  \n",
    "**License:** Apache 2.0"
   ]
  }
 ],
 "metadata": {
  "accelerator": "GPU",
  "colab": {
   "gpuType": "A100",
   "provenance": []
  },
  "kernelspec": {
   "display_name": "Python 3",
   "name": "python3"
  }
 },
 "nbformat": 4,
 "nbformat_minor": 0
}
