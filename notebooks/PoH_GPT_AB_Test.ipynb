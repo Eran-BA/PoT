{
  "cells": [
    {
      "cell_type": "markdown",
      "metadata": {},
      "source": [
        "# 🧠 PoH-GPT vs Baseline-GPT (A/B Test)\n",
        "**Eran Ben-Artzy — October 2025**\n",
        "\n",
        "This notebook trains both **Baseline GPT** and **PoH-GPT** on a synthetic language modeling task and compares their perplexity.\n"
      ]
    },
    {
      "cell_type": "markdown",
      "metadata": {},
      "source": [
        "## 1️⃣ Environment Setup\n"
      ]
    },
    {
      "cell_type": "code",
      "execution_count": null,
      "metadata": {},
      "outputs": [],
      "source": [
        "!pip install torch torchvision torchaudio pandas matplotlib seaborn pyyaml tqdm --quiet\n",
        "\n",
        "# Clone the repository\n",
        "!git clone https://github.com/Eran-BA/PoT.git\n",
        "%cd PoT\n",
        "\n",
        "# Optional: Update to latest version\n",
        "# !git pull\n"
      ]
    },
    {
      "cell_type": "markdown",
      "metadata": {},
      "source": [
        "## 2️⃣ Quick A/B Test (100 steps)\n"
      ]
    },
    {
      "cell_type": "code",
      "execution_count": null,
      "metadata": {},
      "outputs": [],
      "source": [
        "# Quick test with minimal steps for demo\n",
        "!PYTHONPATH=$PWD python experiments/quick_ab_test.py\n"
      ]
    },
    {
      "cell_type": "markdown",
      "metadata": {},
      "source": [
        "## ✅ Summary\n",
        "\n",
        "This notebook demonstrates:\n",
        "- ✅ Fair A/B comparison with matched hyperparameters\n",
        "- ✅ Perplexity comparison on synthetic language modeling\n",
        "- ✅ Automatic result logging to CSV\n",
        "- ✅ Visualization of results\n",
        "\n",
        "**Expected outcome:** PoH-GPT should achieve lower perplexity than Baseline GPT with comparable training time.\n",
        "\n",
        "---\n",
        "\n",
        "**Author:** Eran Ben-Artzy  \n",
        "**License:** Apache 2.0  \n",
        "**Year:** 2025\n"
      ]
    }
  ],
  "metadata": {
    "language_info": {
      "name": "python"
    }
  },
  "nbformat": 4,
  "nbformat_minor": 2
}
