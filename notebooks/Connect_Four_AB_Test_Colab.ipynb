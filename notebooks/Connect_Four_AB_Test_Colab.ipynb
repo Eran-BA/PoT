{
  "cells": [
    {
      "cell_type": "markdown",
      "metadata": {},
      "source": [
        "# 🎮 Connect Four: 3-Way A/B Test\n",
        "\n",
        "**PoH-HRM vs BERT vs Baseline Transformer on A100 GPU**\n",
        "\n",
        "This notebook compares:\n",
        "- **Baseline**: Standard Transformer encoder\n",
        "- **BERT**: Pre-trained BERT architecture (parameter-matched)\n",
        "- **PoH-HRM**: Pointer-over-Heads with Hierarchical Reasoning Module (f_L + f_H with T=4)\n",
        "\n",
        "**Task**: Learn to play Connect Four strategically\n",
        "\n",
        "**Why Connect Four?**\n",
        "- Requires tactical and strategic planning\n",
        "- Multi-step lookahead reasoning\n",
        "- Perfect for testing hierarchical reasoning (HRM's f_L for tactics, f_H for strategy)\n",
        "- Tests if temporal abstraction helps with game playing\n",
        "\n",
        "**Parameter Parity**: All models matched to ~1-5% parameter count for fair comparison\n"
      ]
    },
    {
      "cell_type": "markdown",
      "metadata": {},
      "source": [
        "## Setup\n"
      ]
    },
    {
      "cell_type": "code",
      "execution_count": null,
      "metadata": {},
      "outputs": [],
      "source": [
        "# Clone repository\n",
        "!git clone https://github.com/Eran-BA/PoT.git\n",
        "%cd PoT\n"
      ]
    },
    {
      "cell_type": "code",
      "execution_count": null,
      "metadata": {},
      "outputs": [],
      "source": [
        "# Install dependencies\n",
        "!pip install torch torchvision torchaudio --index-url https://download.pytorch.org/whl/cu118\n",
        "!pip install transformers datasets scipy numpy tqdm matplotlib seaborn pandas\n"
      ]
    },
    {
      "cell_type": "code",
      "execution_count": null,
      "metadata": {},
      "outputs": [],
      "source": [
        "# Verify GPU\n",
        "import torch\n",
        "print(f\"GPU Available: {torch.cuda.is_available()}\")\n",
        "print(f\"GPU Name: {torch.cuda.get_device_name(0) if torch.cuda.is_available() else 'N/A'}\")\n",
        "print(f\"GPU Memory: {torch.cuda.get_device_properties(0).total_memory / 1e9:.2f} GB\" if torch.cuda.is_available() else \"N/A\")\n"
      ]
    },
    {
      "cell_type": "markdown",
      "metadata": {},
      "source": [
        "## Run Connect Four A/B Test\n"
      ]
    },
    {
      "cell_type": "code",
      "execution_count": null,
      "metadata": {},
      "outputs": [],
      "source": [
        "# Quick test (500 training games, minimax depth=3)\n",
        "!python experiments/connect_four_ab_test.py \\\n",
        "  --train-games 500 \\\n",
        "  --test-games 100 \\\n",
        "  --minimax-depth 3 \\\n",
        "  --epochs 80 \\\n",
        "  --R 4 \\\n",
        "  --T 4 \\\n",
        "  --n-heads 4\n"
      ]
    },
    {
      "cell_type": "code",
      "execution_count": null,
      "metadata": {},
      "outputs": [],
      "source": [
        "# Full test (1000 games, deeper minimax) - where HRM should shine!\n",
        "!python experiments/connect_four_ab_test.py \\\n",
        "  --train-games 1000 \\\n",
        "  --test-games 200 \\\n",
        "  --minimax-depth 4 \\\n",
        "  --epochs 120 \\\n",
        "  --R 4 \\\n",
        "  --T 4 \\\n",
        "  --n-heads 4\n"
      ]
    },
    {
      "cell_type": "markdown",
      "metadata": {},
      "source": [
        "## Visualize Results\n"
      ]
    },
    {
      "cell_type": "code",
      "execution_count": null,
      "metadata": {},
      "outputs": [],
      "source": [
        "import pandas as pd\n",
        "import matplotlib.pyplot as plt\n",
        "import seaborn as sns\n",
        "import numpy as np\n",
        "\n",
        "# Load results\n",
        "df = pd.read_csv('experiments/results/connect_four_ab/connect_four_R4_T4_nheads4.csv')\n",
        "\n",
        "# Display\n",
        "print(\"\\n📊 Connect Four Results\")\n",
        "print(\"=\"*80)\n",
        "print(df.to_string())\n",
        "\n",
        "# Plot comparison\n",
        "plt.figure(figsize=(12, 5))\n",
        "\n",
        "baseline_data = df[df['model'] == 'Baseline']\n",
        "poh_data = df[df['model'] == 'PoH-HRM']\n",
        "\n",
        "# Accuracy comparison\n",
        "plt.subplot(1, 2, 1)\n",
        "models = ['Baseline', 'PoH-HRM']\n",
        "accuracies = [baseline_data['final_accuracy'].values[0], poh_data['final_accuracy'].values[0]]\n",
        "colors = ['#3498db', '#e74c3c']\n",
        "\n",
        "bars = plt.bar(models, accuracies, color=colors, alpha=0.8)\n",
        "plt.ylabel('Move Prediction Accuracy')\n",
        "plt.title('Connect Four: Move Prediction Accuracy')\n",
        "plt.ylim([0, 1])\n",
        "plt.grid(axis='y', alpha=0.3)\n",
        "\n",
        "# Add value labels on bars\n",
        "for bar in bars:\n",
        "    height = bar.get_height()\n",
        "    plt.text(bar.get_x() + bar.get_width()/2., height,\n",
        "            f'{height:.1%}',\n",
        "            ha='center', va='bottom', fontweight='bold')\n",
        "\n",
        "# Training efficiency\n",
        "plt.subplot(1, 2, 2)\n",
        "params = [baseline_data['params_M'].values[0], poh_data['params_M'].values[0]]\n",
        "bars = plt.bar(models, params, color=colors, alpha=0.8)\n",
        "plt.ylabel('Parameters (M)')\n",
        "plt.title('Model Size Comparison')\n",
        "plt.grid(axis='y', alpha=0.3)\n",
        "\n",
        "# Add value labels\n",
        "for bar in bars:\n",
        "    height = bar.get_height()\n",
        "    plt.text(bar.get_x() + bar.get_width()/2., height,\n",
        "            f'{height:.2f}M',\n",
        "            ha='center', va='bottom', fontweight='bold')\n",
        "\n",
        "plt.tight_layout()\n",
        "plt.savefig('connect_four_results.png', dpi=300, bbox_inches='tight')\n",
        "plt.show()\n",
        "\n",
        "# Calculate improvements\n",
        "print(\"\\n🏆 PoH-HRM vs Baseline:\")\n",
        "print(\"=\"*80)\n",
        "baseline_acc = baseline_data['final_accuracy'].values[0]\n",
        "poh_acc = poh_data['final_accuracy'].values[0]\n",
        "improvement = ((poh_acc - baseline_acc) / baseline_acc) * 100\n",
        "print(f\"Accuracy: {poh_acc:.1%} vs {baseline_acc:.1%} ({improvement:+.1f}% improvement)\")\n",
        "\n",
        "baseline_params = baseline_data['params_M'].values[0]\n",
        "poh_params = poh_data['params_M'].values[0]\n",
        "param_overhead = ((poh_params - baseline_params) / baseline_params) * 100\n",
        "print(f\"Parameters: {poh_params:.2f}M vs {baseline_params:.2f}M ({param_overhead:+.1f}% overhead)\")\n",
        "\n",
        "if poh_acc > baseline_acc:\n",
        "    print(f\"\\n✅ PoH-HRM WINS by {(poh_acc - baseline_acc):.1%}!\")\n",
        "elif poh_acc < baseline_acc:\n",
        "    print(f\"\\n❌ Baseline wins by {(baseline_acc - poh_acc):.1%}\")\n",
        "else:\n",
        "    print(f\"\\n⚖️ TIE!\")\n"
      ]
    },
    {
      "cell_type": "markdown",
      "metadata": {},
      "source": [
        "## Play Interactive Game (Optional)\n"
      ]
    },
    {
      "cell_type": "code",
      "execution_count": null,
      "metadata": {},
      "outputs": [],
      "source": [
        "# Visualize a Connect Four game\n",
        "import sys\n",
        "sys.path.insert(0, '.')\n",
        "\n",
        "from experiments.connect_four_ab_test import ConnectFour\n",
        "import matplotlib.pyplot as plt\n",
        "import numpy as np\n",
        "\n",
        "def draw_board(board):\n",
        "    \"\"\"Visualize Connect Four board.\"\"\"\n",
        "    fig, ax = plt.subplots(figsize=(8, 7))\n",
        "    \n",
        "    # Draw grid\n",
        "    for i in range(7):\n",
        "        for j in range(6):\n",
        "            circle = plt.Circle((i, 5-j), 0.4, color='white', ec='black', linewidth=2)\n",
        "            ax.add_patch(circle)\n",
        "            \n",
        "            if board[j, i] == 1:\n",
        "                circle = plt.Circle((i, 5-j), 0.35, color='red', ec='darkred', linewidth=2)\n",
        "                ax.add_patch(circle)\n",
        "            elif board[j, i] == 2:\n",
        "                circle = plt.Circle((i, 5-j), 0.35, color='yellow', ec='gold', linewidth=2)\n",
        "                ax.add_patch(circle)\n",
        "    \n",
        "    ax.set_xlim(-0.5, 6.5)\n",
        "    ax.set_ylim(-0.5, 5.5)\n",
        "    ax.set_aspect('equal')\n",
        "    ax.axis('off')\n",
        "    ax.set_title('Connect Four', fontsize=16, fontweight='bold')\n",
        "    \n",
        "    return fig, ax\n",
        "\n",
        "# Play a sample game\n",
        "game = ConnectFour()\n",
        "moves = [3, 3, 2, 4, 2, 4, 2, 1]  # Example game\n",
        "\n",
        "for move in moves:\n",
        "    if game.make_move(move):\n",
        "        pass\n",
        "    if game.game_over:\n",
        "        break\n",
        "\n",
        "fig, ax = draw_board(game.board)\n",
        "plt.savefig('connect_four_sample_game.png', dpi=150, bbox_inches='tight')\n",
        "plt.show()\n",
        "\n",
        "if game.winner:\n",
        "    print(f\"🏆 Player {game.winner} wins!\")\n",
        "else:\n",
        "    print(\"⚖️ Draw!\")\n"
      ]
    },
    {
      "cell_type": "markdown",
      "metadata": {},
      "source": [
        "## Download Results\n"
      ]
    },
    {
      "cell_type": "code",
      "execution_count": null,
      "metadata": {},
      "outputs": [],
      "source": [
        "from google.colab import files\n",
        "\n",
        "# Download CSV results\n",
        "files.download('experiments/results/connect_four_ab/connect_four_R4_T4_nheads4.csv')\n",
        "\n",
        "# Download plots\n",
        "files.download('connect_four_results.png')\n",
        "files.download('connect_four_sample_game.png')\n"
      ]
    }
  ],
  "metadata": {
    "language_info": {
      "name": "python"
    }
  },
  "nbformat": 4,
  "nbformat_minor": 2
}
