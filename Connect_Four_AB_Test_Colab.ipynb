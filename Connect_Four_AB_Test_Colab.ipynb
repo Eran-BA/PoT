{
  "cells": [
    {
      "cell_type": "markdown",
      "metadata": {
        "id": "view-in-github",
        "colab_type": "text"
      },
      "source": [
        "<a href=\"https://colab.research.google.com/github/Eran-BA/PoT/blob/main/Connect_Four_AB_Test_Colab.ipynb\" target=\"_parent\"><img src=\"https://colab.research.google.com/assets/colab-badge.svg\" alt=\"Open In Colab\"/></a>"
      ]
    },
    {
      "cell_type": "markdown",
      "metadata": {
        "id": "2KxC5hBQaFAt"
      },
      "source": [
        "# 🎮 Connect Four: PoH-HRM vs Baseline Transformer\n",
        "\n",
        "**A/B Test on A100 GPU**\n",
        "\n",
        "This notebook compares:\n",
        "- **Baseline**: Standard Transformer encoder\n",
        "- **PoH-HRM**: Pointer-over-Heads with Hierarchical Reasoning Module (f_L + f_H with T=4)\n",
        "\n",
        "**Task**: Learn to play Connect Four strategically\n",
        "\n",
        "**Why Connect Four?**\n",
        "- Requires tactical and strategic planning\n",
        "- Multi-step lookahead reasoning\n",
        "- Perfect for testing hierarchical reasoning (HRM's f_L for tactics, f_H for strategy)\n"
      ]
    },
    {
      "cell_type": "markdown",
      "metadata": {
        "id": "h4UhaT-QaFAt"
      },
      "source": [
        "## Setup\n"
      ]
    },
    {
      "cell_type": "code",
      "execution_count": 1,
      "metadata": {
        "id": "UDw8DAbhaFAt",
        "colab": {
          "base_uri": "https://localhost:8080/"
        },
        "outputId": "d5c54ff4-2aac-4bd6-be22-b19dcba7ddf7"
      },
      "outputs": [
        {
          "output_type": "stream",
          "name": "stdout",
          "text": [
            "Cloning into 'PoT'...\n",
            "remote: Enumerating objects: 922, done.\u001b[K\n",
            "remote: Counting objects: 100% (188/188), done.\u001b[K\n",
            "remote: Compressing objects: 100% (141/141), done.\u001b[K\n",
            "remote: Total 922 (delta 89), reused 137 (delta 46), pack-reused 734 (from 1)\u001b[K\n",
            "Receiving objects: 100% (922/922), 750.33 KiB | 25.01 MiB/s, done.\n",
            "Resolving deltas: 100% (447/447), done.\n",
            "/content/PoT\n"
          ]
        }
      ],
      "source": [
        "# Clone repository\n",
        "!git clone https://github.com/Eran-BA/PoT.git\n",
        "%cd PoT\n"
      ]
    },
    {
      "cell_type": "code",
      "execution_count": 2,
      "metadata": {
        "id": "XuD5pWDYaFAu",
        "colab": {
          "base_uri": "https://localhost:8080/"
        },
        "outputId": "2de7b352-cb9d-4a25-bd36-b3c4ca8e563b"
      },
      "outputs": [
        {
          "output_type": "stream",
          "name": "stdout",
          "text": [
            "Looking in indexes: https://download.pytorch.org/whl/cu118\n",
            "Requirement already satisfied: torch in /usr/local/lib/python3.12/dist-packages (2.8.0+cu126)\n",
            "Requirement already satisfied: torchvision in /usr/local/lib/python3.12/dist-packages (0.23.0+cu126)\n",
            "Requirement already satisfied: torchaudio in /usr/local/lib/python3.12/dist-packages (2.8.0+cu126)\n",
            "Requirement already satisfied: filelock in /usr/local/lib/python3.12/dist-packages (from torch) (3.20.0)\n",
            "Requirement already satisfied: typing-extensions>=4.10.0 in /usr/local/lib/python3.12/dist-packages (from torch) (4.15.0)\n",
            "Requirement already satisfied: setuptools in /usr/local/lib/python3.12/dist-packages (from torch) (75.2.0)\n",
            "Requirement already satisfied: sympy>=1.13.3 in /usr/local/lib/python3.12/dist-packages (from torch) (1.13.3)\n",
            "Requirement already satisfied: networkx in /usr/local/lib/python3.12/dist-packages (from torch) (3.5)\n",
            "Requirement already satisfied: jinja2 in /usr/local/lib/python3.12/dist-packages (from torch) (3.1.6)\n",
            "Requirement already satisfied: fsspec in /usr/local/lib/python3.12/dist-packages (from torch) (2025.3.0)\n",
            "Requirement already satisfied: nvidia-cuda-nvrtc-cu12==12.6.77 in /usr/local/lib/python3.12/dist-packages (from torch) (12.6.77)\n",
            "Requirement already satisfied: nvidia-cuda-runtime-cu12==12.6.77 in /usr/local/lib/python3.12/dist-packages (from torch) (12.6.77)\n",
            "Requirement already satisfied: nvidia-cuda-cupti-cu12==12.6.80 in /usr/local/lib/python3.12/dist-packages (from torch) (12.6.80)\n",
            "Requirement already satisfied: nvidia-cudnn-cu12==9.10.2.21 in /usr/local/lib/python3.12/dist-packages (from torch) (9.10.2.21)\n",
            "Requirement already satisfied: nvidia-cublas-cu12==12.6.4.1 in /usr/local/lib/python3.12/dist-packages (from torch) (12.6.4.1)\n",
            "Requirement already satisfied: nvidia-cufft-cu12==11.3.0.4 in /usr/local/lib/python3.12/dist-packages (from torch) (11.3.0.4)\n",
            "Requirement already satisfied: nvidia-curand-cu12==10.3.7.77 in /usr/local/lib/python3.12/dist-packages (from torch) (10.3.7.77)\n",
            "Requirement already satisfied: nvidia-cusolver-cu12==11.7.1.2 in /usr/local/lib/python3.12/dist-packages (from torch) (11.7.1.2)\n",
            "Requirement already satisfied: nvidia-cusparse-cu12==12.5.4.2 in /usr/local/lib/python3.12/dist-packages (from torch) (12.5.4.2)\n",
            "Requirement already satisfied: nvidia-cusparselt-cu12==0.7.1 in /usr/local/lib/python3.12/dist-packages (from torch) (0.7.1)\n",
            "Requirement already satisfied: nvidia-nccl-cu12==2.27.3 in /usr/local/lib/python3.12/dist-packages (from torch) (2.27.3)\n",
            "Requirement already satisfied: nvidia-nvtx-cu12==12.6.77 in /usr/local/lib/python3.12/dist-packages (from torch) (12.6.77)\n",
            "Requirement already satisfied: nvidia-nvjitlink-cu12==12.6.85 in /usr/local/lib/python3.12/dist-packages (from torch) (12.6.85)\n",
            "Requirement already satisfied: nvidia-cufile-cu12==1.11.1.6 in /usr/local/lib/python3.12/dist-packages (from torch) (1.11.1.6)\n",
            "Requirement already satisfied: triton==3.4.0 in /usr/local/lib/python3.12/dist-packages (from torch) (3.4.0)\n",
            "Requirement already satisfied: numpy in /usr/local/lib/python3.12/dist-packages (from torchvision) (2.0.2)\n",
            "Requirement already satisfied: pillow!=8.3.*,>=5.3.0 in /usr/local/lib/python3.12/dist-packages (from torchvision) (11.3.0)\n",
            "Requirement already satisfied: mpmath<1.4,>=1.1.0 in /usr/local/lib/python3.12/dist-packages (from sympy>=1.13.3->torch) (1.3.0)\n",
            "Requirement already satisfied: MarkupSafe>=2.0 in /usr/local/lib/python3.12/dist-packages (from jinja2->torch) (3.0.3)\n",
            "Requirement already satisfied: transformers in /usr/local/lib/python3.12/dist-packages (4.57.0)\n",
            "Requirement already satisfied: datasets in /usr/local/lib/python3.12/dist-packages (4.0.0)\n",
            "Requirement already satisfied: scipy in /usr/local/lib/python3.12/dist-packages (1.16.2)\n",
            "Requirement already satisfied: numpy in /usr/local/lib/python3.12/dist-packages (2.0.2)\n",
            "Requirement already satisfied: tqdm in /usr/local/lib/python3.12/dist-packages (4.67.1)\n",
            "Requirement already satisfied: matplotlib in /usr/local/lib/python3.12/dist-packages (3.10.0)\n",
            "Requirement already satisfied: seaborn in /usr/local/lib/python3.12/dist-packages (0.13.2)\n",
            "Requirement already satisfied: pandas in /usr/local/lib/python3.12/dist-packages (2.2.2)\n",
            "Requirement already satisfied: filelock in /usr/local/lib/python3.12/dist-packages (from transformers) (3.20.0)\n",
            "Requirement already satisfied: huggingface-hub<1.0,>=0.34.0 in /usr/local/lib/python3.12/dist-packages (from transformers) (0.35.3)\n",
            "Requirement already satisfied: packaging>=20.0 in /usr/local/lib/python3.12/dist-packages (from transformers) (25.0)\n",
            "Requirement already satisfied: pyyaml>=5.1 in /usr/local/lib/python3.12/dist-packages (from transformers) (6.0.3)\n",
            "Requirement already satisfied: regex!=2019.12.17 in /usr/local/lib/python3.12/dist-packages (from transformers) (2024.11.6)\n",
            "Requirement already satisfied: requests in /usr/local/lib/python3.12/dist-packages (from transformers) (2.32.4)\n",
            "Requirement already satisfied: tokenizers<=0.23.0,>=0.22.0 in /usr/local/lib/python3.12/dist-packages (from transformers) (0.22.1)\n",
            "Requirement already satisfied: safetensors>=0.4.3 in /usr/local/lib/python3.12/dist-packages (from transformers) (0.6.2)\n",
            "Requirement already satisfied: pyarrow>=15.0.0 in /usr/local/lib/python3.12/dist-packages (from datasets) (18.1.0)\n",
            "Requirement already satisfied: dill<0.3.9,>=0.3.0 in /usr/local/lib/python3.12/dist-packages (from datasets) (0.3.8)\n",
            "Requirement already satisfied: xxhash in /usr/local/lib/python3.12/dist-packages (from datasets) (3.6.0)\n",
            "Requirement already satisfied: multiprocess<0.70.17 in /usr/local/lib/python3.12/dist-packages (from datasets) (0.70.16)\n",
            "Requirement already satisfied: fsspec<=2025.3.0,>=2023.1.0 in /usr/local/lib/python3.12/dist-packages (from fsspec[http]<=2025.3.0,>=2023.1.0->datasets) (2025.3.0)\n",
            "Requirement already satisfied: contourpy>=1.0.1 in /usr/local/lib/python3.12/dist-packages (from matplotlib) (1.3.3)\n",
            "Requirement already satisfied: cycler>=0.10 in /usr/local/lib/python3.12/dist-packages (from matplotlib) (0.12.1)\n",
            "Requirement already satisfied: fonttools>=4.22.0 in /usr/local/lib/python3.12/dist-packages (from matplotlib) (4.60.1)\n",
            "Requirement already satisfied: kiwisolver>=1.3.1 in /usr/local/lib/python3.12/dist-packages (from matplotlib) (1.4.9)\n",
            "Requirement already satisfied: pillow>=8 in /usr/local/lib/python3.12/dist-packages (from matplotlib) (11.3.0)\n",
            "Requirement already satisfied: pyparsing>=2.3.1 in /usr/local/lib/python3.12/dist-packages (from matplotlib) (3.2.5)\n",
            "Requirement already satisfied: python-dateutil>=2.7 in /usr/local/lib/python3.12/dist-packages (from matplotlib) (2.9.0.post0)\n",
            "Requirement already satisfied: pytz>=2020.1 in /usr/local/lib/python3.12/dist-packages (from pandas) (2025.2)\n",
            "Requirement already satisfied: tzdata>=2022.7 in /usr/local/lib/python3.12/dist-packages (from pandas) (2025.2)\n",
            "Requirement already satisfied: aiohttp!=4.0.0a0,!=4.0.0a1 in /usr/local/lib/python3.12/dist-packages (from fsspec[http]<=2025.3.0,>=2023.1.0->datasets) (3.13.0)\n",
            "Requirement already satisfied: typing-extensions>=3.7.4.3 in /usr/local/lib/python3.12/dist-packages (from huggingface-hub<1.0,>=0.34.0->transformers) (4.15.0)\n",
            "Requirement already satisfied: hf-xet<2.0.0,>=1.1.3 in /usr/local/lib/python3.12/dist-packages (from huggingface-hub<1.0,>=0.34.0->transformers) (1.1.10)\n",
            "Requirement already satisfied: six>=1.5 in /usr/local/lib/python3.12/dist-packages (from python-dateutil>=2.7->matplotlib) (1.17.0)\n",
            "Requirement already satisfied: charset_normalizer<4,>=2 in /usr/local/lib/python3.12/dist-packages (from requests->transformers) (3.4.3)\n",
            "Requirement already satisfied: idna<4,>=2.5 in /usr/local/lib/python3.12/dist-packages (from requests->transformers) (3.10)\n",
            "Requirement already satisfied: urllib3<3,>=1.21.1 in /usr/local/lib/python3.12/dist-packages (from requests->transformers) (2.5.0)\n",
            "Requirement already satisfied: certifi>=2017.4.17 in /usr/local/lib/python3.12/dist-packages (from requests->transformers) (2025.10.5)\n",
            "Requirement already satisfied: aiohappyeyeballs>=2.5.0 in /usr/local/lib/python3.12/dist-packages (from aiohttp!=4.0.0a0,!=4.0.0a1->fsspec[http]<=2025.3.0,>=2023.1.0->datasets) (2.6.1)\n",
            "Requirement already satisfied: aiosignal>=1.4.0 in /usr/local/lib/python3.12/dist-packages (from aiohttp!=4.0.0a0,!=4.0.0a1->fsspec[http]<=2025.3.0,>=2023.1.0->datasets) (1.4.0)\n",
            "Requirement already satisfied: attrs>=17.3.0 in /usr/local/lib/python3.12/dist-packages (from aiohttp!=4.0.0a0,!=4.0.0a1->fsspec[http]<=2025.3.0,>=2023.1.0->datasets) (25.4.0)\n",
            "Requirement already satisfied: frozenlist>=1.1.1 in /usr/local/lib/python3.12/dist-packages (from aiohttp!=4.0.0a0,!=4.0.0a1->fsspec[http]<=2025.3.0,>=2023.1.0->datasets) (1.8.0)\n",
            "Requirement already satisfied: multidict<7.0,>=4.5 in /usr/local/lib/python3.12/dist-packages (from aiohttp!=4.0.0a0,!=4.0.0a1->fsspec[http]<=2025.3.0,>=2023.1.0->datasets) (6.7.0)\n",
            "Requirement already satisfied: propcache>=0.2.0 in /usr/local/lib/python3.12/dist-packages (from aiohttp!=4.0.0a0,!=4.0.0a1->fsspec[http]<=2025.3.0,>=2023.1.0->datasets) (0.3.2)\n",
            "Requirement already satisfied: yarl<2.0,>=1.17.0 in /usr/local/lib/python3.12/dist-packages (from aiohttp!=4.0.0a0,!=4.0.0a1->fsspec[http]<=2025.3.0,>=2023.1.0->datasets) (1.22.0)\n"
          ]
        }
      ],
      "source": [
        "# Install dependencies\n",
        "!pip install torch torchvision torchaudio --index-url https://download.pytorch.org/whl/cu118\n",
        "!pip install transformers datasets scipy numpy tqdm matplotlib seaborn pandas\n"
      ]
    },
    {
      "cell_type": "code",
      "execution_count": 3,
      "metadata": {
        "id": "PNhpJUBqaFAu",
        "colab": {
          "base_uri": "https://localhost:8080/"
        },
        "outputId": "f584645f-f3f7-470f-bd0f-452dcec6c355"
      },
      "outputs": [
        {
          "output_type": "stream",
          "name": "stdout",
          "text": [
            "GPU Available: True\n",
            "GPU Name: NVIDIA A100-SXM4-40GB\n",
            "GPU Memory: 42.47 GB\n"
          ]
        }
      ],
      "source": [
        "# Verify GPU\n",
        "import torch\n",
        "print(f\"GPU Available: {torch.cuda.is_available()}\")\n",
        "print(f\"GPU Name: {torch.cuda.get_device_name(0) if torch.cuda.is_available() else 'N/A'}\")\n",
        "print(f\"GPU Memory: {torch.cuda.get_device_properties(0).total_memory / 1e9:.2f} GB\" if torch.cuda.is_available() else \"N/A\")\n"
      ]
    },
    {
      "cell_type": "markdown",
      "metadata": {
        "id": "JavZaDcvaFAu"
      },
      "source": [
        "## Run Connect Four A/B Test\n"
      ]
    },
    {
      "cell_type": "code",
      "execution_count": 4,
      "metadata": {
        "id": "nL2yibB4aFAu",
        "colab": {
          "base_uri": "https://localhost:8080/"
        },
        "outputId": "f92804e3-fe7c-4132-ef6f-5e29e6ad0bc5"
      },
      "outputs": [
        {
          "output_type": "stream",
          "name": "stdout",
          "text": [
            "2025-10-13 16:31:24.551267: I tensorflow/core/util/port.cc:153] oneDNN custom operations are on. You may see slightly different numerical results due to floating-point round-off errors from different computation orders. To turn them off, set the environment variable `TF_ENABLE_ONEDNN_OPTS=0`.\n",
            "2025-10-13 16:31:24.568716: E external/local_xla/xla/stream_executor/cuda/cuda_fft.cc:467] Unable to register cuFFT factory: Attempting to register factory for plugin cuFFT when one has already been registered\n",
            "WARNING: All log messages before absl::InitializeLog() is called are written to STDERR\n",
            "E0000 00:00:1760373084.590387    1107 cuda_dnn.cc:8579] Unable to register cuDNN factory: Attempting to register factory for plugin cuDNN when one has already been registered\n",
            "E0000 00:00:1760373084.596966    1107 cuda_blas.cc:1407] Unable to register cuBLAS factory: Attempting to register factory for plugin cuBLAS when one has already been registered\n",
            "W0000 00:00:1760373084.613426    1107 computation_placer.cc:177] computation placer already registered. Please check linkage and avoid linking the same target more than once.\n",
            "W0000 00:00:1760373084.613458    1107 computation_placer.cc:177] computation placer already registered. Please check linkage and avoid linking the same target more than once.\n",
            "W0000 00:00:1760373084.613462    1107 computation_placer.cc:177] computation placer already registered. Please check linkage and avoid linking the same target more than once.\n",
            "W0000 00:00:1760373084.613466    1107 computation_placer.cc:177] computation placer already registered. Please check linkage and avoid linking the same target more than once.\n",
            "2025-10-13 16:31:24.618344: I tensorflow/core/platform/cpu_feature_guard.cc:210] This TensorFlow binary is optimized to use available CPU instructions in performance-critical operations.\n",
            "To enable the following instructions: AVX2 AVX512F AVX512_VNNI FMA, in other operations, rebuild TensorFlow with the appropriate compiler flags.\n",
            "================================================================================\n",
            "CONNECT FOUR A/B TEST\n",
            "================================================================================\n",
            "\n",
            "Configuration:\n",
            "  n_heads = 4\n",
            "  R = 4 (refinement steps)\n",
            "  T = 4 (HRM outer loop period)\n",
            "================================================================================\n",
            "\n",
            "================================================================================\n",
            "A/B Test: Connect Four\n",
            "================================================================================\n",
            "Configuration:\n",
            "  Training games: 500\n",
            "  Test games: 100\n",
            "  Minimax depth: 3\n",
            "  PoH n_heads: 4\n",
            "  PoH R (refinement steps): 4\n",
            "  PoH T (HRM outer loop period): 4\n",
            "  Epochs: 80\n",
            "  Seed: 42\n",
            "  Device: cuda\n",
            "\n",
            "Generating training data...\n",
            "Generating games: 100% 500/500 [13:29<00:00,  1.62s/it]\n",
            "Generating games: 100% 100/100 [02:41<00:00,  1.62s/it]\n",
            "  Train positions: 10,500\n",
            "  Test positions: 2,100\n",
            "\n",
            "Building models...\n",
            "\n",
            "Training Baseline...\n",
            "  Parameters: 1.34M\n",
            "Baseline: 100% 80/80 [02:18<00:00,  1.73s/it, p_loss=0.008, v_loss=0.000, train_acc=99.82%, test_acc=100.00%]\n",
            "\n",
            "Training PoH-HRM (R=4, T=4)...\n",
            "  Parameters: 2.46M\n",
            "PoH-HRM (R=4, T=4): 100% 80/80 [12:27<00:00,  9.35s/it, p_loss=0.000, v_loss=0.000, train_acc=100.00%, test_acc=100.00%]\n",
            "\n",
            "================================================================================\n",
            "📊 RESULTS\n",
            "================================================================================\n",
            "\n",
            "📚 Baseline (Standard Transformer)\n",
            "  Parameters: 1.34M\n",
            "  Best Accuracy: 100.00%\n",
            "  Final Accuracy: 100.00%\n",
            "  Training time: 2.31 min\n",
            "\n",
            "🔬 PoH with HRM (R=4, T=4, n_heads=4)\n",
            "  Parameters: 2.46M\n",
            "  Best Accuracy: 100.00%\n",
            "  Final Accuracy: 100.00%\n",
            "  Training time: 12.46 min\n",
            "\n",
            "================================================================================\n",
            "📈 COMPARISON\n",
            "================================================================================\n",
            "Accuracy delta: +0.00% (+0.0%)\n",
            "⚖️  TIE (difference < 5%)\n",
            "\n",
            "✅ Results saved to: experiments/results/connect_four_ab/connect_four_R4_T4_nheads4.csv\n",
            "================================================================================\n"
          ]
        }
      ],
      "source": [
        "# Quick test (500 training games, minimax depth=3)\n",
        "!python experiments/connect_four_ab_test.py \\\n",
        "  --train-games 500 \\\n",
        "  --test-games 100 \\\n",
        "  --minimax-depth 3 \\\n",
        "  --epochs 80 \\\n",
        "  --R 4 \\\n",
        "  --T 4 \\\n",
        "  --n-heads 4\n"
      ]
    },
    {
      "cell_type": "code",
      "execution_count": null,
      "metadata": {
        "id": "CjnYmhOLaFAu",
        "colab": {
          "base_uri": "https://localhost:8080/"
        },
        "outputId": "58d36653-cb25-4962-8549-4400b266f869"
      },
      "outputs": [
        {
          "output_type": "stream",
          "name": "stdout",
          "text": [
            "2025-10-13 17:02:37.494553: I tensorflow/core/util/port.cc:153] oneDNN custom operations are on. You may see slightly different numerical results due to floating-point round-off errors from different computation orders. To turn them off, set the environment variable `TF_ENABLE_ONEDNN_OPTS=0`.\n",
            "2025-10-13 17:02:37.512234: E external/local_xla/xla/stream_executor/cuda/cuda_fft.cc:467] Unable to register cuFFT factory: Attempting to register factory for plugin cuFFT when one has already been registered\n",
            "WARNING: All log messages before absl::InitializeLog() is called are written to STDERR\n",
            "E0000 00:00:1760374957.532972    8943 cuda_dnn.cc:8579] Unable to register cuDNN factory: Attempting to register factory for plugin cuDNN when one has already been registered\n",
            "E0000 00:00:1760374957.539296    8943 cuda_blas.cc:1407] Unable to register cuBLAS factory: Attempting to register factory for plugin cuBLAS when one has already been registered\n",
            "W0000 00:00:1760374957.555638    8943 computation_placer.cc:177] computation placer already registered. Please check linkage and avoid linking the same target more than once.\n",
            "W0000 00:00:1760374957.555665    8943 computation_placer.cc:177] computation placer already registered. Please check linkage and avoid linking the same target more than once.\n",
            "W0000 00:00:1760374957.555668    8943 computation_placer.cc:177] computation placer already registered. Please check linkage and avoid linking the same target more than once.\n",
            "W0000 00:00:1760374957.555670    8943 computation_placer.cc:177] computation placer already registered. Please check linkage and avoid linking the same target more than once.\n",
            "2025-10-13 17:02:37.560515: I tensorflow/core/platform/cpu_feature_guard.cc:210] This TensorFlow binary is optimized to use available CPU instructions in performance-critical operations.\n",
            "To enable the following instructions: AVX2 AVX512F AVX512_VNNI FMA, in other operations, rebuild TensorFlow with the appropriate compiler flags.\n",
            "================================================================================\n",
            "CONNECT FOUR A/B TEST\n",
            "================================================================================\n",
            "\n",
            "Configuration:\n",
            "  n_heads = 4\n",
            "  R = 4 (refinement steps)\n",
            "  T = 4 (HRM outer loop period)\n",
            "================================================================================\n",
            "\n",
            "================================================================================\n",
            "A/B Test: Connect Four\n",
            "================================================================================\n",
            "Configuration:\n",
            "  Training games: 1,000\n",
            "  Test games: 200\n",
            "  Minimax depth: 4\n",
            "  PoH n_heads: 4\n",
            "  PoH R (refinement steps): 4\n",
            "  PoH T (HRM outer loop period): 4\n",
            "  Epochs: 120\n",
            "  Seed: 42\n",
            "  Device: cuda\n",
            "\n",
            "Generating training data...\n",
            "Generating games:   7% 73/1000 [06:08<1:17:55,  5.04s/it]"
          ]
        }
      ],
      "source": [
        "# Full test (1000 games, deeper minimax) - where HRM should shine!\n",
        "!python experiments/connect_four_ab_test.py \\\n",
        "  --train-games 1000 \\\n",
        "  --test-games 200 \\\n",
        "  --minimax-depth 4 \\\n",
        "  --epochs 120 \\\n",
        "  --R 4 \\\n",
        "  --T 4 \\\n",
        "  --n-heads 4\n"
      ]
    },
    {
      "cell_type": "markdown",
      "metadata": {
        "id": "A3HelBzTaFAu"
      },
      "source": [
        "## Visualize Results\n"
      ]
    },
    {
      "cell_type": "code",
      "execution_count": null,
      "metadata": {
        "id": "C2B0bP02aFAu"
      },
      "outputs": [],
      "source": [
        "import pandas as pd\n",
        "import matplotlib.pyplot as plt\n",
        "import seaborn as sns\n",
        "import numpy as np\n",
        "\n",
        "# Load results\n",
        "df = pd.read_csv('experiments/results/connect_four_ab/connect_four_R4_T4_nheads4.csv')\n",
        "\n",
        "# Display\n",
        "print(\"\\n📊 Connect Four Results\")\n",
        "print(\"=\"*80)\n",
        "print(df.to_string())\n",
        "\n",
        "# Plot comparison\n",
        "plt.figure(figsize=(12, 5))\n",
        "\n",
        "baseline_data = df[df['model'] == 'Baseline']\n",
        "poh_data = df[df['model'] == 'PoH-HRM']\n",
        "\n",
        "# Accuracy comparison\n",
        "plt.subplot(1, 2, 1)\n",
        "models = ['Baseline', 'PoH-HRM']\n",
        "accuracies = [baseline_data['final_accuracy'].values[0], poh_data['final_accuracy'].values[0]]\n",
        "colors = ['#3498db', '#e74c3c']\n",
        "\n",
        "bars = plt.bar(models, accuracies, color=colors, alpha=0.8)\n",
        "plt.ylabel('Move Prediction Accuracy')\n",
        "plt.title('Connect Four: Move Prediction Accuracy')\n",
        "plt.ylim([0, 1])\n",
        "plt.grid(axis='y', alpha=0.3)\n",
        "\n",
        "# Add value labels on bars\n",
        "for bar in bars:\n",
        "    height = bar.get_height()\n",
        "    plt.text(bar.get_x() + bar.get_width()/2., height,\n",
        "            f'{height:.1%}',\n",
        "            ha='center', va='bottom', fontweight='bold')\n",
        "\n",
        "# Training efficiency\n",
        "plt.subplot(1, 2, 2)\n",
        "params = [baseline_data['params_M'].values[0], poh_data['params_M'].values[0]]\n",
        "bars = plt.bar(models, params, color=colors, alpha=0.8)\n",
        "plt.ylabel('Parameters (M)')\n",
        "plt.title('Model Size Comparison')\n",
        "plt.grid(axis='y', alpha=0.3)\n",
        "\n",
        "# Add value labels\n",
        "for bar in bars:\n",
        "    height = bar.get_height()\n",
        "    plt.text(bar.get_x() + bar.get_width()/2., height,\n",
        "            f'{height:.2f}M',\n",
        "            ha='center', va='bottom', fontweight='bold')\n",
        "\n",
        "plt.tight_layout()\n",
        "plt.savefig('connect_four_results.png', dpi=300, bbox_inches='tight')\n",
        "plt.show()\n",
        "\n",
        "# Calculate improvements\n",
        "print(\"\\n🏆 PoH-HRM vs Baseline:\")\n",
        "print(\"=\"*80)\n",
        "baseline_acc = baseline_data['final_accuracy'].values[0]\n",
        "poh_acc = poh_data['final_accuracy'].values[0]\n",
        "improvement = ((poh_acc - baseline_acc) / baseline_acc) * 100\n",
        "print(f\"Accuracy: {poh_acc:.1%} vs {baseline_acc:.1%} ({improvement:+.1f}% improvement)\")\n",
        "\n",
        "baseline_params = baseline_data['params_M'].values[0]\n",
        "poh_params = poh_data['params_M'].values[0]\n",
        "param_overhead = ((poh_params - baseline_params) / baseline_params) * 100\n",
        "print(f\"Parameters: {poh_params:.2f}M vs {baseline_params:.2f}M ({param_overhead:+.1f}% overhead)\")\n",
        "\n",
        "if poh_acc > baseline_acc:\n",
        "    print(f\"\\n✅ PoH-HRM WINS by {(poh_acc - baseline_acc):.1%}!\")\n",
        "elif poh_acc < baseline_acc:\n",
        "    print(f\"\\n❌ Baseline wins by {(baseline_acc - poh_acc):.1%}\")\n",
        "else:\n",
        "    print(f\"\\n⚖️ TIE!\")\n"
      ]
    },
    {
      "cell_type": "markdown",
      "metadata": {
        "id": "fHnZNGTraFAv"
      },
      "source": [
        "## Play Interactive Game (Optional)\n"
      ]
    },
    {
      "cell_type": "code",
      "execution_count": null,
      "metadata": {
        "id": "rw9edwVuaFAv"
      },
      "outputs": [],
      "source": [
        "# Visualize a Connect Four game\n",
        "import sys\n",
        "sys.path.insert(0, '.')\n",
        "\n",
        "from experiments.connect_four_ab_test import ConnectFour\n",
        "import matplotlib.pyplot as plt\n",
        "import numpy as np\n",
        "\n",
        "def draw_board(board):\n",
        "    \"\"\"Visualize Connect Four board.\"\"\"\n",
        "    fig, ax = plt.subplots(figsize=(8, 7))\n",
        "\n",
        "    # Draw grid\n",
        "    for i in range(7):\n",
        "        for j in range(6):\n",
        "            circle = plt.Circle((i, 5-j), 0.4, color='white', ec='black', linewidth=2)\n",
        "            ax.add_patch(circle)\n",
        "\n",
        "            if board[j, i] == 1:\n",
        "                circle = plt.Circle((i, 5-j), 0.35, color='red', ec='darkred', linewidth=2)\n",
        "                ax.add_patch(circle)\n",
        "            elif board[j, i] == 2:\n",
        "                circle = plt.Circle((i, 5-j), 0.35, color='yellow', ec='gold', linewidth=2)\n",
        "                ax.add_patch(circle)\n",
        "\n",
        "    ax.set_xlim(-0.5, 6.5)\n",
        "    ax.set_ylim(-0.5, 5.5)\n",
        "    ax.set_aspect('equal')\n",
        "    ax.axis('off')\n",
        "    ax.set_title('Connect Four', fontsize=16, fontweight='bold')\n",
        "\n",
        "    return fig, ax\n",
        "\n",
        "# Play a sample game\n",
        "game = ConnectFour()\n",
        "moves = [3, 3, 2, 4, 2, 4, 2, 1]  # Example game\n",
        "\n",
        "for move in moves:\n",
        "    if game.make_move(move):\n",
        "        pass\n",
        "    if game.game_over:\n",
        "        break\n",
        "\n",
        "fig, ax = draw_board(game.board)\n",
        "plt.savefig('connect_four_sample_game.png', dpi=150, bbox_inches='tight')\n",
        "plt.show()\n",
        "\n",
        "if game.winner:\n",
        "    print(f\"🏆 Player {game.winner} wins!\")\n",
        "else:\n",
        "    print(\"⚖️ Draw!\")\n"
      ]
    },
    {
      "cell_type": "markdown",
      "metadata": {
        "id": "7xown8dbaFAv"
      },
      "source": [
        "## Download Results\n"
      ]
    },
    {
      "cell_type": "code",
      "execution_count": null,
      "metadata": {
        "id": "icot-vF6aFAv"
      },
      "outputs": [],
      "source": [
        "from google.colab import files\n",
        "\n",
        "# Download CSV results\n",
        "files.download('experiments/results/connect_four_ab/connect_four_R4_T4_nheads4.csv')\n",
        "\n",
        "# Download plots\n",
        "files.download('connect_four_results.png')\n",
        "files.download('connect_four_sample_game.png')\n"
      ]
    }
  ],
  "metadata": {
    "language_info": {
      "name": "python"
    },
    "colab": {
      "provenance": [],
      "gpuType": "A100",
      "include_colab_link": true
    },
    "kernelspec": {
      "name": "python3",
      "display_name": "Python 3"
    },
    "accelerator": "GPU"
  },
  "nbformat": 4,
  "nbformat_minor": 0
}